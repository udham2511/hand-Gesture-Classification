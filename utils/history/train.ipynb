{
 "cells": [
  {
   "cell_type": "markdown",
   "metadata": {},
   "source": [
    "# **1. Importing Modules**"
   ]
  },
  {
   "cell_type": "code",
   "execution_count": 1,
   "metadata": {},
   "outputs": [],
   "source": [
    "from tensorflow.keras.callbacks import ModelCheckpoint, EarlyStopping\n",
    "from tensorflow.keras.models import Sequential\n",
    "from tensorflow.keras.layers import InputLayer, Dropout, Dense\n",
    "from tensorflow import lite\n",
    "\n",
    "from sklearn.metrics import confusion_matrix, classification_report\n",
    "import seaborn\n",
    "from matplotlib import pyplot\n",
    "from sklearn.model_selection import train_test_split\n",
    "\n",
    "import numpy\n",
    "import os\n",
    "import pandas"
   ]
  },
  {
   "cell_type": "markdown",
   "metadata": {},
   "source": [
    "# **2. Loading Dataset**"
   ]
  },
  {
   "cell_type": "code",
   "execution_count": 2,
   "metadata": {},
   "outputs": [],
   "source": [
    "labels = [\"still\", \"clockwise\", \"anticlockwise\", \"move\"]"
   ]
  },
  {
   "cell_type": "code",
   "execution_count": 3,
   "metadata": {},
   "outputs": [],
   "source": [
    "X = []\n",
    "Y = []\n",
    "\n",
    "for num, label in enumerate(labels):\n",
    "    labeldata = numpy.load(os.path.join(\"samples\", label + \".npy\"))\n",
    "\n",
    "    X.extend(labeldata)\n",
    "    Y.extend([num] * len(labeldata))\n",
    "\n",
    "X = numpy.array(X)\n",
    "Y = numpy.array(Y)"
   ]
  },
  {
   "cell_type": "code",
   "execution_count": 4,
   "metadata": {},
   "outputs": [
    {
     "name": "stdout",
     "output_type": "stream",
     "text": [
      "Total Samples: 20000\n"
     ]
    }
   ],
   "source": [
    "print(\"Total Samples:\", len(X))"
   ]
  },
  {
   "cell_type": "code",
   "execution_count": 5,
   "metadata": {},
   "outputs": [],
   "source": [
    "x_train, x_test, y_train, y_test = train_test_split(\n",
    "    X, Y, train_size=0.9, random_state=42\n",
    ")"
   ]
  },
  {
   "cell_type": "markdown",
   "metadata": {},
   "source": [
    "# **3. Building Model**"
   ]
  },
  {
   "cell_type": "code",
   "execution_count": 6,
   "metadata": {},
   "outputs": [
    {
     "name": "stderr",
     "output_type": "stream",
     "text": [
      "d:\\Python Projects\\Hand Gesture Classification\\venv\\lib\\site-packages\\keras\\src\\layers\\core\\input_layer.py:26: UserWarning: Argument `input_shape` is deprecated. Use `shape` instead.\n",
      "  warnings.warn(\n"
     ]
    }
   ],
   "source": [
    "model = Sequential(\n",
    "    [\n",
    "        InputLayer(input_shape=X[0].shape),\n",
    "        Dropout(0.2),\n",
    "        Dense(24, activation=\"relu\"),\n",
    "        Dropout(0.5),\n",
    "        Dense(10, activation=\"relu\"),\n",
    "        Dense(len(labels), activation=\"softmax\"),\n",
    "    ]\n",
    ")"
   ]
  },
  {
   "cell_type": "code",
   "execution_count": 7,
   "metadata": {},
   "outputs": [
    {
     "data": {
      "text/html": [
       "<pre style=\"white-space:pre;overflow-x:auto;line-height:normal;font-family:Menlo,'DejaVu Sans Mono',consolas,'Courier New',monospace\"><span style=\"font-weight: bold\">Model: \"sequential\"</span>\n",
       "</pre>\n"
      ],
      "text/plain": [
       "\u001b[1mModel: \"sequential\"\u001b[0m\n"
      ]
     },
     "metadata": {},
     "output_type": "display_data"
    },
    {
     "data": {
      "text/html": [
       "<pre style=\"white-space:pre;overflow-x:auto;line-height:normal;font-family:Menlo,'DejaVu Sans Mono',consolas,'Courier New',monospace\">┏━━━━━━━━━━━━━━━━━━━━━━━━━━━━━━━━━┳━━━━━━━━━━━━━━━━━━━━━━━━┳━━━━━━━━━━━━━━━┓\n",
       "┃<span style=\"font-weight: bold\"> Layer (type)                    </span>┃<span style=\"font-weight: bold\"> Output Shape           </span>┃<span style=\"font-weight: bold\">       Param # </span>┃\n",
       "┡━━━━━━━━━━━━━━━━━━━━━━━━━━━━━━━━━╇━━━━━━━━━━━━━━━━━━━━━━━━╇━━━━━━━━━━━━━━━┩\n",
       "│ dropout (<span style=\"color: #0087ff; text-decoration-color: #0087ff\">Dropout</span>)               │ (<span style=\"color: #00d7ff; text-decoration-color: #00d7ff\">None</span>, <span style=\"color: #00af00; text-decoration-color: #00af00\">32</span>)             │             <span style=\"color: #00af00; text-decoration-color: #00af00\">0</span> │\n",
       "├─────────────────────────────────┼────────────────────────┼───────────────┤\n",
       "│ dense (<span style=\"color: #0087ff; text-decoration-color: #0087ff\">Dense</span>)                   │ (<span style=\"color: #00d7ff; text-decoration-color: #00d7ff\">None</span>, <span style=\"color: #00af00; text-decoration-color: #00af00\">24</span>)             │           <span style=\"color: #00af00; text-decoration-color: #00af00\">792</span> │\n",
       "├─────────────────────────────────┼────────────────────────┼───────────────┤\n",
       "│ dropout_1 (<span style=\"color: #0087ff; text-decoration-color: #0087ff\">Dropout</span>)             │ (<span style=\"color: #00d7ff; text-decoration-color: #00d7ff\">None</span>, <span style=\"color: #00af00; text-decoration-color: #00af00\">24</span>)             │             <span style=\"color: #00af00; text-decoration-color: #00af00\">0</span> │\n",
       "├─────────────────────────────────┼────────────────────────┼───────────────┤\n",
       "│ dense_1 (<span style=\"color: #0087ff; text-decoration-color: #0087ff\">Dense</span>)                 │ (<span style=\"color: #00d7ff; text-decoration-color: #00d7ff\">None</span>, <span style=\"color: #00af00; text-decoration-color: #00af00\">10</span>)             │           <span style=\"color: #00af00; text-decoration-color: #00af00\">250</span> │\n",
       "├─────────────────────────────────┼────────────────────────┼───────────────┤\n",
       "│ dense_2 (<span style=\"color: #0087ff; text-decoration-color: #0087ff\">Dense</span>)                 │ (<span style=\"color: #00d7ff; text-decoration-color: #00d7ff\">None</span>, <span style=\"color: #00af00; text-decoration-color: #00af00\">4</span>)              │            <span style=\"color: #00af00; text-decoration-color: #00af00\">44</span> │\n",
       "└─────────────────────────────────┴────────────────────────┴───────────────┘\n",
       "</pre>\n"
      ],
      "text/plain": [
       "┏━━━━━━━━━━━━━━━━━━━━━━━━━━━━━━━━━┳━━━━━━━━━━━━━━━━━━━━━━━━┳━━━━━━━━━━━━━━━┓\n",
       "┃\u001b[1m \u001b[0m\u001b[1mLayer (type)                   \u001b[0m\u001b[1m \u001b[0m┃\u001b[1m \u001b[0m\u001b[1mOutput Shape          \u001b[0m\u001b[1m \u001b[0m┃\u001b[1m \u001b[0m\u001b[1m      Param #\u001b[0m\u001b[1m \u001b[0m┃\n",
       "┡━━━━━━━━━━━━━━━━━━━━━━━━━━━━━━━━━╇━━━━━━━━━━━━━━━━━━━━━━━━╇━━━━━━━━━━━━━━━┩\n",
       "│ dropout (\u001b[38;5;33mDropout\u001b[0m)               │ (\u001b[38;5;45mNone\u001b[0m, \u001b[38;5;34m32\u001b[0m)             │             \u001b[38;5;34m0\u001b[0m │\n",
       "├─────────────────────────────────┼────────────────────────┼───────────────┤\n",
       "│ dense (\u001b[38;5;33mDense\u001b[0m)                   │ (\u001b[38;5;45mNone\u001b[0m, \u001b[38;5;34m24\u001b[0m)             │           \u001b[38;5;34m792\u001b[0m │\n",
       "├─────────────────────────────────┼────────────────────────┼───────────────┤\n",
       "│ dropout_1 (\u001b[38;5;33mDropout\u001b[0m)             │ (\u001b[38;5;45mNone\u001b[0m, \u001b[38;5;34m24\u001b[0m)             │             \u001b[38;5;34m0\u001b[0m │\n",
       "├─────────────────────────────────┼────────────────────────┼───────────────┤\n",
       "│ dense_1 (\u001b[38;5;33mDense\u001b[0m)                 │ (\u001b[38;5;45mNone\u001b[0m, \u001b[38;5;34m10\u001b[0m)             │           \u001b[38;5;34m250\u001b[0m │\n",
       "├─────────────────────────────────┼────────────────────────┼───────────────┤\n",
       "│ dense_2 (\u001b[38;5;33mDense\u001b[0m)                 │ (\u001b[38;5;45mNone\u001b[0m, \u001b[38;5;34m4\u001b[0m)              │            \u001b[38;5;34m44\u001b[0m │\n",
       "└─────────────────────────────────┴────────────────────────┴───────────────┘\n"
      ]
     },
     "metadata": {},
     "output_type": "display_data"
    },
    {
     "data": {
      "text/html": [
       "<pre style=\"white-space:pre;overflow-x:auto;line-height:normal;font-family:Menlo,'DejaVu Sans Mono',consolas,'Courier New',monospace\"><span style=\"font-weight: bold\"> Total params: </span><span style=\"color: #00af00; text-decoration-color: #00af00\">1,086</span> (4.24 KB)\n",
       "</pre>\n"
      ],
      "text/plain": [
       "\u001b[1m Total params: \u001b[0m\u001b[38;5;34m1,086\u001b[0m (4.24 KB)\n"
      ]
     },
     "metadata": {},
     "output_type": "display_data"
    },
    {
     "data": {
      "text/html": [
       "<pre style=\"white-space:pre;overflow-x:auto;line-height:normal;font-family:Menlo,'DejaVu Sans Mono',consolas,'Courier New',monospace\"><span style=\"font-weight: bold\"> Trainable params: </span><span style=\"color: #00af00; text-decoration-color: #00af00\">1,086</span> (4.24 KB)\n",
       "</pre>\n"
      ],
      "text/plain": [
       "\u001b[1m Trainable params: \u001b[0m\u001b[38;5;34m1,086\u001b[0m (4.24 KB)\n"
      ]
     },
     "metadata": {},
     "output_type": "display_data"
    },
    {
     "data": {
      "text/html": [
       "<pre style=\"white-space:pre;overflow-x:auto;line-height:normal;font-family:Menlo,'DejaVu Sans Mono',consolas,'Courier New',monospace\"><span style=\"font-weight: bold\"> Non-trainable params: </span><span style=\"color: #00af00; text-decoration-color: #00af00\">0</span> (0.00 B)\n",
       "</pre>\n"
      ],
      "text/plain": [
       "\u001b[1m Non-trainable params: \u001b[0m\u001b[38;5;34m0\u001b[0m (0.00 B)\n"
      ]
     },
     "metadata": {},
     "output_type": "display_data"
    }
   ],
   "source": [
    "model.summary()"
   ]
  },
  {
   "cell_type": "markdown",
   "metadata": {},
   "source": [
    "# **4. Creating Callbacks**"
   ]
  },
  {
   "cell_type": "code",
   "execution_count": 8,
   "metadata": {},
   "outputs": [],
   "source": [
    "dirpath = f\"./models/{'-'.join(labels)}\""
   ]
  },
  {
   "cell_type": "code",
   "execution_count": 9,
   "metadata": {},
   "outputs": [],
   "source": [
    "CPCallback = ModelCheckpoint(\n",
    "    os.path.join(dirpath, \"model.keras\"), verbose=1, save_weights_only=False\n",
    ")\n",
    "ESCallback = EarlyStopping(patience=56, verbose=1)"
   ]
  },
  {
   "cell_type": "markdown",
   "metadata": {},
   "source": [
    "# **5. Compiling Model**"
   ]
  },
  {
   "cell_type": "code",
   "execution_count": 10,
   "metadata": {},
   "outputs": [],
   "source": [
    "model.compile(\n",
    "    optimizer=\"adam\", loss=\"sparse_categorical_crossentropy\", metrics=[\"accuracy\"]\n",
    ")"
   ]
  },
  {
   "cell_type": "markdown",
   "metadata": {},
   "source": [
    "# **6. Training Model**"
   ]
  },
  {
   "cell_type": "code",
   "execution_count": 11,
   "metadata": {},
   "outputs": [
    {
     "name": "stdout",
     "output_type": "stream",
     "text": [
      "Epoch 1/1000\n",
      "\u001b[1m138/141\u001b[0m \u001b[32m━━━━━━━━━━━━━━━━━━━\u001b[0m\u001b[37m━\u001b[0m \u001b[1m0s\u001b[0m 1ms/step - accuracy: 0.3237 - loss: 1.3596\n",
      "Epoch 1: saving model to ./models/still-clockwise-anticlockwise-move\\model.keras\n",
      "\u001b[1m141/141\u001b[0m \u001b[32m━━━━━━━━━━━━━━━━━━━━\u001b[0m\u001b[37m\u001b[0m \u001b[1m1s\u001b[0m 3ms/step - accuracy: 0.3244 - loss: 1.3588 - val_accuracy: 0.4225 - val_loss: 1.2478\n",
      "Epoch 2/1000\n",
      "\u001b[1m133/141\u001b[0m \u001b[32m━━━━━━━━━━━━━━━━━━\u001b[0m\u001b[37m━━\u001b[0m \u001b[1m0s\u001b[0m 1ms/step - accuracy: 0.4328 - loss: 1.2134\n",
      "Epoch 2: saving model to ./models/still-clockwise-anticlockwise-move\\model.keras\n",
      "\u001b[1m141/141\u001b[0m \u001b[32m━━━━━━━━━━━━━━━━━━━━\u001b[0m\u001b[37m\u001b[0m \u001b[1m0s\u001b[0m 2ms/step - accuracy: 0.4390 - loss: 1.2103 - val_accuracy: 0.8245 - val_loss: 1.0190\n",
      "Epoch 3/1000\n",
      "\u001b[1m140/141\u001b[0m \u001b[32m━━━━━━━━━━━━━━━━━━━\u001b[0m\u001b[37m━\u001b[0m \u001b[1m0s\u001b[0m 1ms/step - accuracy: 0.7149 - loss: 1.0017\n",
      "Epoch 3: saving model to ./models/still-clockwise-anticlockwise-move\\model.keras\n",
      "\u001b[1m141/141\u001b[0m \u001b[32m━━━━━━━━━━━━━━━━━━━━\u001b[0m\u001b[37m\u001b[0m \u001b[1m0s\u001b[0m 2ms/step - accuracy: 0.7151 - loss: 1.0010 - val_accuracy: 0.9145 - val_loss: 0.7804\n",
      "Epoch 4/1000\n",
      "\u001b[1m 95/141\u001b[0m \u001b[32m━━━━━━━━━━━━━\u001b[0m\u001b[37m━━━━━━━\u001b[0m \u001b[1m0s\u001b[0m 1ms/step - accuracy: 0.7696 - loss: 0.8135\n",
      "Epoch 4: saving model to ./models/still-clockwise-anticlockwise-move\\model.keras\n",
      "\u001b[1m141/141\u001b[0m \u001b[32m━━━━━━━━━━━━━━━━━━━━\u001b[0m\u001b[37m\u001b[0m \u001b[1m0s\u001b[0m 2ms/step - accuracy: 0.7717 - loss: 0.8016 - val_accuracy: 0.9570 - val_loss: 0.5789\n",
      "Epoch 5/1000\n",
      "\u001b[1m140/141\u001b[0m \u001b[32m━━━━━━━━━━━━━━━━━━━\u001b[0m\u001b[37m━\u001b[0m \u001b[1m0s\u001b[0m 1ms/step - accuracy: 0.7950 - loss: 0.6768\n",
      "Epoch 5: saving model to ./models/still-clockwise-anticlockwise-move\\model.keras\n",
      "\u001b[1m141/141\u001b[0m \u001b[32m━━━━━━━━━━━━━━━━━━━━\u001b[0m\u001b[37m\u001b[0m \u001b[1m0s\u001b[0m 2ms/step - accuracy: 0.7951 - loss: 0.6764 - val_accuracy: 0.9615 - val_loss: 0.4501\n",
      "Epoch 6/1000\n",
      "\u001b[1m119/141\u001b[0m \u001b[32m━━━━━━━━━━━━━━━━\u001b[0m\u001b[37m━━━━\u001b[0m \u001b[1m0s\u001b[0m 1ms/step - accuracy: 0.8202 - loss: 0.5779\n",
      "Epoch 6: saving model to ./models/still-clockwise-anticlockwise-move\\model.keras\n",
      "\u001b[1m141/141\u001b[0m \u001b[32m━━━━━━━━━━━━━━━━━━━━\u001b[0m\u001b[37m\u001b[0m \u001b[1m0s\u001b[0m 2ms/step - accuracy: 0.8210 - loss: 0.5757 - val_accuracy: 0.9640 - val_loss: 0.3774\n",
      "Epoch 7/1000\n",
      "\u001b[1m112/141\u001b[0m \u001b[32m━━━━━━━━━━━━━━━\u001b[0m\u001b[37m━━━━━\u001b[0m \u001b[1m0s\u001b[0m 1ms/step - accuracy: 0.8296 - loss: 0.5398\n",
      "Epoch 7: saving model to ./models/still-clockwise-anticlockwise-move\\model.keras\n",
      "\u001b[1m141/141\u001b[0m \u001b[32m━━━━━━━━━━━━━━━━━━━━\u001b[0m\u001b[37m\u001b[0m \u001b[1m0s\u001b[0m 2ms/step - accuracy: 0.8305 - loss: 0.5377 - val_accuracy: 0.9620 - val_loss: 0.3345\n",
      "Epoch 8/1000\n",
      "\u001b[1m 97/141\u001b[0m \u001b[32m━━━━━━━━━━━━━\u001b[0m\u001b[37m━━━━━━━\u001b[0m \u001b[1m0s\u001b[0m 1ms/step - accuracy: 0.8549 - loss: 0.4855\n",
      "Epoch 8: saving model to ./models/still-clockwise-anticlockwise-move\\model.keras\n",
      "\u001b[1m141/141\u001b[0m \u001b[32m━━━━━━━━━━━━━━━━━━━━\u001b[0m\u001b[37m\u001b[0m \u001b[1m0s\u001b[0m 2ms/step - accuracy: 0.8548 - loss: 0.4856 - val_accuracy: 0.9600 - val_loss: 0.3114\n",
      "Epoch 9/1000\n",
      "\u001b[1m105/141\u001b[0m \u001b[32m━━━━━━━━━━━━━━\u001b[0m\u001b[37m━━━━━━\u001b[0m \u001b[1m0s\u001b[0m 971us/step - accuracy: 0.8541 - loss: 0.4625\n",
      "Epoch 9: saving model to ./models/still-clockwise-anticlockwise-move\\model.keras\n",
      "\u001b[1m141/141\u001b[0m \u001b[32m━━━━━━━━━━━━━━━━━━━━\u001b[0m\u001b[37m\u001b[0m \u001b[1m0s\u001b[0m 1ms/step - accuracy: 0.8545 - loss: 0.4644 - val_accuracy: 0.9610 - val_loss: 0.2906\n",
      "Epoch 10/1000\n",
      "\u001b[1m101/141\u001b[0m \u001b[32m━━━━━━━━━━━━━━\u001b[0m\u001b[37m━━━━━━\u001b[0m \u001b[1m0s\u001b[0m 1ms/step - accuracy: 0.8594 - loss: 0.4603\n",
      "Epoch 10: saving model to ./models/still-clockwise-anticlockwise-move\\model.keras\n",
      "\u001b[1m141/141\u001b[0m \u001b[32m━━━━━━━━━━━━━━━━━━━━\u001b[0m\u001b[37m\u001b[0m \u001b[1m0s\u001b[0m 2ms/step - accuracy: 0.8595 - loss: 0.4604 - val_accuracy: 0.9625 - val_loss: 0.2797\n",
      "Epoch 11/1000\n",
      "\u001b[1m122/141\u001b[0m \u001b[32m━━━━━━━━━━━━━━━━━\u001b[0m\u001b[37m━━━\u001b[0m \u001b[1m0s\u001b[0m 1ms/step - accuracy: 0.8646 - loss: 0.4355\n",
      "Epoch 11: saving model to ./models/still-clockwise-anticlockwise-move\\model.keras\n",
      "\u001b[1m141/141\u001b[0m \u001b[32m━━━━━━━━━━━━━━━━━━━━\u001b[0m\u001b[37m\u001b[0m \u001b[1m0s\u001b[0m 2ms/step - accuracy: 0.8651 - loss: 0.4347 - val_accuracy: 0.9620 - val_loss: 0.2711\n",
      "Epoch 12/1000\n",
      "\u001b[1m140/141\u001b[0m \u001b[32m━━━━━━━━━━━━━━━━━━━\u001b[0m\u001b[37m━\u001b[0m \u001b[1m0s\u001b[0m 1ms/step - accuracy: 0.8688 - loss: 0.4298\n",
      "Epoch 12: saving model to ./models/still-clockwise-anticlockwise-move\\model.keras\n",
      "\u001b[1m141/141\u001b[0m \u001b[32m━━━━━━━━━━━━━━━━━━━━\u001b[0m\u001b[37m\u001b[0m \u001b[1m0s\u001b[0m 2ms/step - accuracy: 0.8688 - loss: 0.4298 - val_accuracy: 0.9635 - val_loss: 0.2657\n",
      "Epoch 13/1000\n",
      "\u001b[1m 96/141\u001b[0m \u001b[32m━━━━━━━━━━━━━\u001b[0m\u001b[37m━━━━━━━\u001b[0m \u001b[1m0s\u001b[0m 1ms/step - accuracy: 0.8663 - loss: 0.4350\n",
      "Epoch 13: saving model to ./models/still-clockwise-anticlockwise-move\\model.keras\n",
      "\u001b[1m141/141\u001b[0m \u001b[32m━━━━━━━━━━━━━━━━━━━━\u001b[0m\u001b[37m\u001b[0m \u001b[1m0s\u001b[0m 2ms/step - accuracy: 0.8683 - loss: 0.4338 - val_accuracy: 0.9655 - val_loss: 0.2600\n",
      "Epoch 14/1000\n",
      "\u001b[1m139/141\u001b[0m \u001b[32m━━━━━━━━━━━━━━━━━━━\u001b[0m\u001b[37m━\u001b[0m \u001b[1m0s\u001b[0m 1ms/step - accuracy: 0.8728 - loss: 0.4342\n",
      "Epoch 14: saving model to ./models/still-clockwise-anticlockwise-move\\model.keras\n",
      "\u001b[1m141/141\u001b[0m \u001b[32m━━━━━━━━━━━━━━━━━━━━\u001b[0m\u001b[37m\u001b[0m \u001b[1m0s\u001b[0m 2ms/step - accuracy: 0.8729 - loss: 0.4340 - val_accuracy: 0.9650 - val_loss: 0.2562\n",
      "Epoch 15/1000\n",
      "\u001b[1m127/141\u001b[0m \u001b[32m━━━━━━━━━━━━━━━━━━\u001b[0m\u001b[37m━━\u001b[0m \u001b[1m0s\u001b[0m 1ms/step - accuracy: 0.8785 - loss: 0.4219\n",
      "Epoch 15: saving model to ./models/still-clockwise-anticlockwise-move\\model.keras\n",
      "\u001b[1m141/141\u001b[0m \u001b[32m━━━━━━━━━━━━━━━━━━━━\u001b[0m\u001b[37m\u001b[0m \u001b[1m0s\u001b[0m 2ms/step - accuracy: 0.8787 - loss: 0.4203 - val_accuracy: 0.9660 - val_loss: 0.2534\n",
      "Epoch 16/1000\n",
      "\u001b[1m139/141\u001b[0m \u001b[32m━━━━━━━━━━━━━━━━━━━\u001b[0m\u001b[37m━\u001b[0m \u001b[1m0s\u001b[0m 1ms/step - accuracy: 0.8811 - loss: 0.3870\n",
      "Epoch 16: saving model to ./models/still-clockwise-anticlockwise-move\\model.keras\n",
      "\u001b[1m141/141\u001b[0m \u001b[32m━━━━━━━━━━━━━━━━━━━━\u001b[0m\u001b[37m\u001b[0m \u001b[1m0s\u001b[0m 2ms/step - accuracy: 0.8810 - loss: 0.3873 - val_accuracy: 0.9645 - val_loss: 0.2510\n",
      "Epoch 17/1000\n",
      "\u001b[1m101/141\u001b[0m \u001b[32m━━━━━━━━━━━━━━\u001b[0m\u001b[37m━━━━━━\u001b[0m \u001b[1m0s\u001b[0m 1ms/step - accuracy: 0.8833 - loss: 0.3992\n",
      "Epoch 17: saving model to ./models/still-clockwise-anticlockwise-move\\model.keras\n",
      "\u001b[1m141/141\u001b[0m \u001b[32m━━━━━━━━━━━━━━━━━━━━\u001b[0m\u001b[37m\u001b[0m \u001b[1m0s\u001b[0m 2ms/step - accuracy: 0.8831 - loss: 0.3986 - val_accuracy: 0.9650 - val_loss: 0.2462\n",
      "Epoch 18/1000\n",
      "\u001b[1m137/141\u001b[0m \u001b[32m━━━━━━━━━━━━━━━━━━━\u001b[0m\u001b[37m━\u001b[0m \u001b[1m0s\u001b[0m 1ms/step - accuracy: 0.8869 - loss: 0.3981\n",
      "Epoch 18: saving model to ./models/still-clockwise-anticlockwise-move\\model.keras\n",
      "\u001b[1m141/141\u001b[0m \u001b[32m━━━━━━━━━━━━━━━━━━━━\u001b[0m\u001b[37m\u001b[0m \u001b[1m0s\u001b[0m 2ms/step - accuracy: 0.8868 - loss: 0.3981 - val_accuracy: 0.9655 - val_loss: 0.2456\n",
      "Epoch 19/1000\n",
      "\u001b[1m103/141\u001b[0m \u001b[32m━━━━━━━━━━━━━━\u001b[0m\u001b[37m━━━━━━\u001b[0m \u001b[1m0s\u001b[0m 991us/step - accuracy: 0.8824 - loss: 0.4154\n",
      "Epoch 19: saving model to ./models/still-clockwise-anticlockwise-move\\model.keras\n",
      "\u001b[1m141/141\u001b[0m \u001b[32m━━━━━━━━━━━━━━━━━━━━\u001b[0m\u001b[37m\u001b[0m \u001b[1m0s\u001b[0m 2ms/step - accuracy: 0.8829 - loss: 0.4113 - val_accuracy: 0.9630 - val_loss: 0.2408\n",
      "Epoch 20/1000\n",
      "\u001b[1m127/141\u001b[0m \u001b[32m━━━━━━━━━━━━━━━━━━\u001b[0m\u001b[37m━━\u001b[0m \u001b[1m0s\u001b[0m 1ms/step - accuracy: 0.8857 - loss: 0.3807\n",
      "Epoch 20: saving model to ./models/still-clockwise-anticlockwise-move\\model.keras\n",
      "\u001b[1m141/141\u001b[0m \u001b[32m━━━━━━━━━━━━━━━━━━━━\u001b[0m\u001b[37m\u001b[0m \u001b[1m0s\u001b[0m 2ms/step - accuracy: 0.8855 - loss: 0.3817 - val_accuracy: 0.9635 - val_loss: 0.2412\n",
      "Epoch 21/1000\n",
      "\u001b[1m138/141\u001b[0m \u001b[32m━━━━━━━━━━━━━━━━━━━\u001b[0m\u001b[37m━\u001b[0m \u001b[1m0s\u001b[0m 1ms/step - accuracy: 0.8912 - loss: 0.3876\n",
      "Epoch 21: saving model to ./models/still-clockwise-anticlockwise-move\\model.keras\n",
      "\u001b[1m141/141\u001b[0m \u001b[32m━━━━━━━━━━━━━━━━━━━━\u001b[0m\u001b[37m\u001b[0m \u001b[1m0s\u001b[0m 2ms/step - accuracy: 0.8911 - loss: 0.3875 - val_accuracy: 0.9640 - val_loss: 0.2357\n",
      "Epoch 22/1000\n",
      "\u001b[1m116/141\u001b[0m \u001b[32m━━━━━━━━━━━━━━━━\u001b[0m\u001b[37m━━━━\u001b[0m \u001b[1m0s\u001b[0m 878us/step - accuracy: 0.8863 - loss: 0.3943\n",
      "Epoch 22: saving model to ./models/still-clockwise-anticlockwise-move\\model.keras\n",
      "\u001b[1m141/141\u001b[0m \u001b[32m━━━━━━━━━━━━━━━━━━━━\u001b[0m\u001b[37m\u001b[0m \u001b[1m0s\u001b[0m 1ms/step - accuracy: 0.8862 - loss: 0.3935 - val_accuracy: 0.9640 - val_loss: 0.2418\n",
      "Epoch 23/1000\n",
      "\u001b[1m122/141\u001b[0m \u001b[32m━━━━━━━━━━━━━━━━━\u001b[0m\u001b[37m━━━\u001b[0m \u001b[1m0s\u001b[0m 827us/step - accuracy: 0.8939 - loss: 0.3633\n",
      "Epoch 23: saving model to ./models/still-clockwise-anticlockwise-move\\model.keras\n",
      "\u001b[1m141/141\u001b[0m \u001b[32m━━━━━━━━━━━━━━━━━━━━\u001b[0m\u001b[37m\u001b[0m \u001b[1m0s\u001b[0m 1ms/step - accuracy: 0.8936 - loss: 0.3652 - val_accuracy: 0.9650 - val_loss: 0.2353\n",
      "Epoch 24/1000\n",
      "\u001b[1m111/141\u001b[0m \u001b[32m━━━━━━━━━━━━━━━\u001b[0m\u001b[37m━━━━━\u001b[0m \u001b[1m0s\u001b[0m 1ms/step - accuracy: 0.8946 - loss: 0.3643\n",
      "Epoch 24: saving model to ./models/still-clockwise-anticlockwise-move\\model.keras\n",
      "\u001b[1m141/141\u001b[0m \u001b[32m━━━━━━━━━━━━━━━━━━━━\u001b[0m\u001b[37m\u001b[0m \u001b[1m0s\u001b[0m 2ms/step - accuracy: 0.8939 - loss: 0.3656 - val_accuracy: 0.9615 - val_loss: 0.2359\n",
      "Epoch 25/1000\n",
      "\u001b[1m130/141\u001b[0m \u001b[32m━━━━━━━━━━━━━━━━━━\u001b[0m\u001b[37m━━\u001b[0m \u001b[1m0s\u001b[0m 1ms/step - accuracy: 0.8931 - loss: 0.3818\n",
      "Epoch 25: saving model to ./models/still-clockwise-anticlockwise-move\\model.keras\n",
      "\u001b[1m141/141\u001b[0m \u001b[32m━━━━━━━━━━━━━━━━━━━━\u001b[0m\u001b[37m\u001b[0m \u001b[1m0s\u001b[0m 2ms/step - accuracy: 0.8931 - loss: 0.3811 - val_accuracy: 0.9645 - val_loss: 0.2312\n",
      "Epoch 26/1000\n",
      "\u001b[1m129/141\u001b[0m \u001b[32m━━━━━━━━━━━━━━━━━━\u001b[0m\u001b[37m━━\u001b[0m \u001b[1m0s\u001b[0m 1ms/step - accuracy: 0.8935 - loss: 0.3896\n",
      "Epoch 26: saving model to ./models/still-clockwise-anticlockwise-move\\model.keras\n",
      "\u001b[1m141/141\u001b[0m \u001b[32m━━━━━━━━━━━━━━━━━━━━\u001b[0m\u001b[37m\u001b[0m \u001b[1m0s\u001b[0m 2ms/step - accuracy: 0.8933 - loss: 0.3883 - val_accuracy: 0.9635 - val_loss: 0.2311\n",
      "Epoch 27/1000\n",
      "\u001b[1m117/141\u001b[0m \u001b[32m━━━━━━━━━━━━━━━━\u001b[0m\u001b[37m━━━━\u001b[0m \u001b[1m0s\u001b[0m 872us/step - accuracy: 0.8940 - loss: 0.3700\n",
      "Epoch 27: saving model to ./models/still-clockwise-anticlockwise-move\\model.keras\n",
      "\u001b[1m141/141\u001b[0m \u001b[32m━━━━━━━━━━━━━━━━━━━━\u001b[0m\u001b[37m\u001b[0m \u001b[1m0s\u001b[0m 1ms/step - accuracy: 0.8939 - loss: 0.3699 - val_accuracy: 0.9645 - val_loss: 0.2287\n",
      "Epoch 28/1000\n",
      "\u001b[1m107/141\u001b[0m \u001b[32m━━━━━━━━━━━━━━━\u001b[0m\u001b[37m━━━━━\u001b[0m \u001b[1m0s\u001b[0m 957us/step - accuracy: 0.8999 - loss: 0.3608\n",
      "Epoch 28: saving model to ./models/still-clockwise-anticlockwise-move\\model.keras\n",
      "\u001b[1m141/141\u001b[0m \u001b[32m━━━━━━━━━━━━━━━━━━━━\u001b[0m\u001b[37m\u001b[0m \u001b[1m0s\u001b[0m 1ms/step - accuracy: 0.8988 - loss: 0.3616 - val_accuracy: 0.9630 - val_loss: 0.2278\n",
      "Epoch 29/1000\n",
      "\u001b[1m119/141\u001b[0m \u001b[32m━━━━━━━━━━━━━━━━\u001b[0m\u001b[37m━━━━\u001b[0m \u001b[1m0s\u001b[0m 1ms/step - accuracy: 0.8908 - loss: 0.3872\n",
      "Epoch 29: saving model to ./models/still-clockwise-anticlockwise-move\\model.keras\n",
      "\u001b[1m141/141\u001b[0m \u001b[32m━━━━━━━━━━━━━━━━━━━━\u001b[0m\u001b[37m\u001b[0m \u001b[1m0s\u001b[0m 2ms/step - accuracy: 0.8909 - loss: 0.3855 - val_accuracy: 0.9665 - val_loss: 0.2269\n",
      "Epoch 30/1000\n",
      "\u001b[1m114/141\u001b[0m \u001b[32m━━━━━━━━━━━━━━━━\u001b[0m\u001b[37m━━━━\u001b[0m \u001b[1m0s\u001b[0m 892us/step - accuracy: 0.9001 - loss: 0.3481\n",
      "Epoch 30: saving model to ./models/still-clockwise-anticlockwise-move\\model.keras\n",
      "\u001b[1m141/141\u001b[0m \u001b[32m━━━━━━━━━━━━━━━━━━━━\u001b[0m\u001b[37m\u001b[0m \u001b[1m0s\u001b[0m 1ms/step - accuracy: 0.8992 - loss: 0.3503 - val_accuracy: 0.9630 - val_loss: 0.2234\n",
      "Epoch 31/1000\n",
      "\u001b[1m111/141\u001b[0m \u001b[32m━━━━━━━━━━━━━━━\u001b[0m\u001b[37m━━━━━\u001b[0m \u001b[1m0s\u001b[0m 1ms/step - accuracy: 0.8978 - loss: 0.3596\n",
      "Epoch 31: saving model to ./models/still-clockwise-anticlockwise-move\\model.keras\n",
      "\u001b[1m141/141\u001b[0m \u001b[32m━━━━━━━━━━━━━━━━━━━━\u001b[0m\u001b[37m\u001b[0m \u001b[1m0s\u001b[0m 2ms/step - accuracy: 0.8972 - loss: 0.3618 - val_accuracy: 0.9615 - val_loss: 0.2215\n",
      "Epoch 32/1000\n",
      "\u001b[1m 93/141\u001b[0m \u001b[32m━━━━━━━━━━━━━\u001b[0m\u001b[37m━━━━━━━\u001b[0m \u001b[1m0s\u001b[0m 1ms/step - accuracy: 0.8957 - loss: 0.3590\n",
      "Epoch 32: saving model to ./models/still-clockwise-anticlockwise-move\\model.keras\n",
      "\u001b[1m141/141\u001b[0m \u001b[32m━━━━━━━━━━━━━━━━━━━━\u001b[0m\u001b[37m\u001b[0m \u001b[1m0s\u001b[0m 1ms/step - accuracy: 0.8959 - loss: 0.3605 - val_accuracy: 0.9610 - val_loss: 0.2178\n",
      "Epoch 33/1000\n",
      "\u001b[1m117/141\u001b[0m \u001b[32m━━━━━━━━━━━━━━━━\u001b[0m\u001b[37m━━━━\u001b[0m \u001b[1m0s\u001b[0m 875us/step - accuracy: 0.8972 - loss: 0.3440\n",
      "Epoch 33: saving model to ./models/still-clockwise-anticlockwise-move\\model.keras\n",
      "\u001b[1m141/141\u001b[0m \u001b[32m━━━━━━━━━━━━━━━━━━━━\u001b[0m\u001b[37m\u001b[0m \u001b[1m0s\u001b[0m 1ms/step - accuracy: 0.8969 - loss: 0.3462 - val_accuracy: 0.9635 - val_loss: 0.2180\n",
      "Epoch 34/1000\n",
      "\u001b[1m103/141\u001b[0m \u001b[32m━━━━━━━━━━━━━━\u001b[0m\u001b[37m━━━━━━\u001b[0m \u001b[1m0s\u001b[0m 981us/step - accuracy: 0.8984 - loss: 0.3510\n",
      "Epoch 34: saving model to ./models/still-clockwise-anticlockwise-move\\model.keras\n",
      "\u001b[1m141/141\u001b[0m \u001b[32m━━━━━━━━━━━━━━━━━━━━\u001b[0m\u001b[37m\u001b[0m \u001b[1m0s\u001b[0m 1ms/step - accuracy: 0.8979 - loss: 0.3541 - val_accuracy: 0.9625 - val_loss: 0.2159\n",
      "Epoch 35/1000\n",
      "\u001b[1m118/141\u001b[0m \u001b[32m━━━━━━━━━━━━━━━━\u001b[0m\u001b[37m━━━━\u001b[0m \u001b[1m0s\u001b[0m 872us/step - accuracy: 0.9010 - loss: 0.3553\n",
      "Epoch 35: saving model to ./models/still-clockwise-anticlockwise-move\\model.keras\n",
      "\u001b[1m141/141\u001b[0m \u001b[32m━━━━━━━━━━━━━━━━━━━━\u001b[0m\u001b[37m\u001b[0m \u001b[1m0s\u001b[0m 1ms/step - accuracy: 0.9004 - loss: 0.3567 - val_accuracy: 0.9585 - val_loss: 0.2161\n",
      "Epoch 36/1000\n",
      "\u001b[1m109/141\u001b[0m \u001b[32m━━━━━━━━━━━━━━━\u001b[0m\u001b[37m━━━━━\u001b[0m \u001b[1m0s\u001b[0m 2ms/step - accuracy: 0.8907 - loss: 0.3561\n",
      "Epoch 36: saving model to ./models/still-clockwise-anticlockwise-move\\model.keras\n",
      "\u001b[1m141/141\u001b[0m \u001b[32m━━━━━━━━━━━━━━━━━━━━\u001b[0m\u001b[37m\u001b[0m \u001b[1m0s\u001b[0m 2ms/step - accuracy: 0.8915 - loss: 0.3556 - val_accuracy: 0.9600 - val_loss: 0.2154\n",
      "Epoch 37/1000\n",
      "\u001b[1m117/141\u001b[0m \u001b[32m━━━━━━━━━━━━━━━━\u001b[0m\u001b[37m━━━━\u001b[0m \u001b[1m0s\u001b[0m 1ms/step - accuracy: 0.8899 - loss: 0.3669\n",
      "Epoch 37: saving model to ./models/still-clockwise-anticlockwise-move\\model.keras\n",
      "\u001b[1m141/141\u001b[0m \u001b[32m━━━━━━━━━━━━━━━━━━━━\u001b[0m\u001b[37m\u001b[0m \u001b[1m0s\u001b[0m 2ms/step - accuracy: 0.8909 - loss: 0.3652 - val_accuracy: 0.9605 - val_loss: 0.2145\n",
      "Epoch 38/1000\n",
      "\u001b[1m118/141\u001b[0m \u001b[32m━━━━━━━━━━━━━━━━\u001b[0m\u001b[37m━━━━\u001b[0m \u001b[1m0s\u001b[0m 1ms/step - accuracy: 0.8939 - loss: 0.3578\n",
      "Epoch 38: saving model to ./models/still-clockwise-anticlockwise-move\\model.keras\n",
      "\u001b[1m141/141\u001b[0m \u001b[32m━━━━━━━━━━━━━━━━━━━━\u001b[0m\u001b[37m\u001b[0m \u001b[1m0s\u001b[0m 2ms/step - accuracy: 0.8940 - loss: 0.3584 - val_accuracy: 0.9565 - val_loss: 0.2162\n",
      "Epoch 39/1000\n",
      "\u001b[1m137/141\u001b[0m \u001b[32m━━━━━━━━━━━━━━━━━━━\u001b[0m\u001b[37m━\u001b[0m \u001b[1m0s\u001b[0m 1ms/step - accuracy: 0.9005 - loss: 0.3535\n",
      "Epoch 39: saving model to ./models/still-clockwise-anticlockwise-move\\model.keras\n",
      "\u001b[1m141/141\u001b[0m \u001b[32m━━━━━━━━━━━━━━━━━━━━\u001b[0m\u001b[37m\u001b[0m \u001b[1m0s\u001b[0m 2ms/step - accuracy: 0.9006 - loss: 0.3535 - val_accuracy: 0.9560 - val_loss: 0.2129\n",
      "Epoch 40/1000\n",
      "\u001b[1m134/141\u001b[0m \u001b[32m━━━━━━━━━━━━━━━━━━━\u001b[0m\u001b[37m━\u001b[0m \u001b[1m0s\u001b[0m 2ms/step - accuracy: 0.8995 - loss: 0.3455\n",
      "Epoch 40: saving model to ./models/still-clockwise-anticlockwise-move\\model.keras\n",
      "\u001b[1m141/141\u001b[0m \u001b[32m━━━━━━━━━━━━━━━━━━━━\u001b[0m\u001b[37m\u001b[0m \u001b[1m0s\u001b[0m 2ms/step - accuracy: 0.8995 - loss: 0.3456 - val_accuracy: 0.9565 - val_loss: 0.2105\n",
      "Epoch 41/1000\n",
      "\u001b[1m103/141\u001b[0m \u001b[32m━━━━━━━━━━━━━━\u001b[0m\u001b[37m━━━━━━\u001b[0m \u001b[1m0s\u001b[0m 2ms/step - accuracy: 0.8984 - loss: 0.3566\n",
      "Epoch 41: saving model to ./models/still-clockwise-anticlockwise-move\\model.keras\n",
      "\u001b[1m141/141\u001b[0m \u001b[32m━━━━━━━━━━━━━━━━━━━━\u001b[0m\u001b[37m\u001b[0m \u001b[1m0s\u001b[0m 2ms/step - accuracy: 0.8976 - loss: 0.3582 - val_accuracy: 0.9565 - val_loss: 0.2097\n",
      "Epoch 42/1000\n",
      "\u001b[1m 92/141\u001b[0m \u001b[32m━━━━━━━━━━━━━\u001b[0m\u001b[37m━━━━━━━\u001b[0m \u001b[1m0s\u001b[0m 2ms/step - accuracy: 0.8985 - loss: 0.3386\n",
      "Epoch 42: saving model to ./models/still-clockwise-anticlockwise-move\\model.keras\n",
      "\u001b[1m141/141\u001b[0m \u001b[32m━━━━━━━━━━━━━━━━━━━━\u001b[0m\u001b[37m\u001b[0m \u001b[1m0s\u001b[0m 2ms/step - accuracy: 0.8994 - loss: 0.3400 - val_accuracy: 0.9555 - val_loss: 0.2112\n",
      "Epoch 43/1000\n",
      "\u001b[1m 99/141\u001b[0m \u001b[32m━━━━━━━━━━━━━━\u001b[0m\u001b[37m━━━━━━\u001b[0m \u001b[1m0s\u001b[0m 1ms/step - accuracy: 0.9054 - loss: 0.3311\n",
      "Epoch 43: saving model to ./models/still-clockwise-anticlockwise-move\\model.keras\n",
      "\u001b[1m141/141\u001b[0m \u001b[32m━━━━━━━━━━━━━━━━━━━━\u001b[0m\u001b[37m\u001b[0m \u001b[1m0s\u001b[0m 1ms/step - accuracy: 0.9040 - loss: 0.3340 - val_accuracy: 0.9575 - val_loss: 0.2089\n",
      "Epoch 44/1000\n",
      "\u001b[1m106/141\u001b[0m \u001b[32m━━━━━━━━━━━━━━━\u001b[0m\u001b[37m━━━━━\u001b[0m \u001b[1m0s\u001b[0m 962us/step - accuracy: 0.8944 - loss: 0.3496\n",
      "Epoch 44: saving model to ./models/still-clockwise-anticlockwise-move\\model.keras\n",
      "\u001b[1m141/141\u001b[0m \u001b[32m━━━━━━━━━━━━━━━━━━━━\u001b[0m\u001b[37m\u001b[0m \u001b[1m0s\u001b[0m 1ms/step - accuracy: 0.8955 - loss: 0.3486 - val_accuracy: 0.9555 - val_loss: 0.2053\n",
      "Epoch 45/1000\n",
      "\u001b[1m102/141\u001b[0m \u001b[32m━━━━━━━━━━━━━━\u001b[0m\u001b[37m━━━━━━\u001b[0m \u001b[1m0s\u001b[0m 999us/step - accuracy: 0.8975 - loss: 0.3404\n",
      "Epoch 45: saving model to ./models/still-clockwise-anticlockwise-move\\model.keras\n",
      "\u001b[1m141/141\u001b[0m \u001b[32m━━━━━━━━━━━━━━━━━━━━\u001b[0m\u001b[37m\u001b[0m \u001b[1m0s\u001b[0m 2ms/step - accuracy: 0.8980 - loss: 0.3448 - val_accuracy: 0.9575 - val_loss: 0.2049\n",
      "Epoch 46/1000\n",
      "\u001b[1m117/141\u001b[0m \u001b[32m━━━━━━━━━━━━━━━━\u001b[0m\u001b[37m━━━━\u001b[0m \u001b[1m0s\u001b[0m 1ms/step - accuracy: 0.9019 - loss: 0.3371\n",
      "Epoch 46: saving model to ./models/still-clockwise-anticlockwise-move\\model.keras\n",
      "\u001b[1m141/141\u001b[0m \u001b[32m━━━━━━━━━━━━━━━━━━━━\u001b[0m\u001b[37m\u001b[0m \u001b[1m0s\u001b[0m 2ms/step - accuracy: 0.9019 - loss: 0.3387 - val_accuracy: 0.9530 - val_loss: 0.2045\n",
      "Epoch 47/1000\n",
      "\u001b[1m131/141\u001b[0m \u001b[32m━━━━━━━━━━━━━━━━━━\u001b[0m\u001b[37m━━\u001b[0m \u001b[1m0s\u001b[0m 2ms/step - accuracy: 0.9051 - loss: 0.3358\n",
      "Epoch 47: saving model to ./models/still-clockwise-anticlockwise-move\\model.keras\n",
      "\u001b[1m141/141\u001b[0m \u001b[32m━━━━━━━━━━━━━━━━━━━━\u001b[0m\u001b[37m\u001b[0m \u001b[1m0s\u001b[0m 2ms/step - accuracy: 0.9049 - loss: 0.3359 - val_accuracy: 0.9550 - val_loss: 0.2034\n",
      "Epoch 48/1000\n",
      "\u001b[1m136/141\u001b[0m \u001b[32m━━━━━━━━━━━━━━━━━━━\u001b[0m\u001b[37m━\u001b[0m \u001b[1m0s\u001b[0m 1ms/step - accuracy: 0.9028 - loss: 0.3422\n",
      "Epoch 48: saving model to ./models/still-clockwise-anticlockwise-move\\model.keras\n",
      "\u001b[1m141/141\u001b[0m \u001b[32m━━━━━━━━━━━━━━━━━━━━\u001b[0m\u001b[37m\u001b[0m \u001b[1m0s\u001b[0m 2ms/step - accuracy: 0.9028 - loss: 0.3424 - val_accuracy: 0.9540 - val_loss: 0.2034\n",
      "Epoch 49/1000\n",
      "\u001b[1m109/141\u001b[0m \u001b[32m━━━━━━━━━━━━━━━\u001b[0m\u001b[37m━━━━━\u001b[0m \u001b[1m0s\u001b[0m 1ms/step - accuracy: 0.8977 - loss: 0.3330\n",
      "Epoch 49: saving model to ./models/still-clockwise-anticlockwise-move\\model.keras\n",
      "\u001b[1m141/141\u001b[0m \u001b[32m━━━━━━━━━━━━━━━━━━━━\u001b[0m\u001b[37m\u001b[0m \u001b[1m0s\u001b[0m 2ms/step - accuracy: 0.8987 - loss: 0.3317 - val_accuracy: 0.9550 - val_loss: 0.2049\n",
      "Epoch 50/1000\n",
      "\u001b[1m117/141\u001b[0m \u001b[32m━━━━━━━━━━━━━━━━\u001b[0m\u001b[37m━━━━\u001b[0m \u001b[1m0s\u001b[0m 2ms/step - accuracy: 0.9040 - loss: 0.3290\n",
      "Epoch 50: saving model to ./models/still-clockwise-anticlockwise-move\\model.keras\n",
      "\u001b[1m141/141\u001b[0m \u001b[32m━━━━━━━━━━━━━━━━━━━━\u001b[0m\u001b[37m\u001b[0m \u001b[1m0s\u001b[0m 2ms/step - accuracy: 0.9037 - loss: 0.3302 - val_accuracy: 0.9535 - val_loss: 0.2048\n",
      "Epoch 51/1000\n",
      "\u001b[1m 96/141\u001b[0m \u001b[32m━━━━━━━━━━━━━\u001b[0m\u001b[37m━━━━━━━\u001b[0m \u001b[1m0s\u001b[0m 1ms/step - accuracy: 0.9039 - loss: 0.3270\n",
      "Epoch 51: saving model to ./models/still-clockwise-anticlockwise-move\\model.keras\n",
      "\u001b[1m141/141\u001b[0m \u001b[32m━━━━━━━━━━━━━━━━━━━━\u001b[0m\u001b[37m\u001b[0m \u001b[1m0s\u001b[0m 1ms/step - accuracy: 0.9046 - loss: 0.3274 - val_accuracy: 0.9555 - val_loss: 0.1995\n",
      "Epoch 52/1000\n",
      "\u001b[1m 94/141\u001b[0m \u001b[32m━━━━━━━━━━━━━\u001b[0m\u001b[37m━━━━━━━\u001b[0m \u001b[1m0s\u001b[0m 1ms/step - accuracy: 0.8876 - loss: 0.3579\n",
      "Epoch 52: saving model to ./models/still-clockwise-anticlockwise-move\\model.keras\n",
      "\u001b[1m141/141\u001b[0m \u001b[32m━━━━━━━━━━━━━━━━━━━━\u001b[0m\u001b[37m\u001b[0m \u001b[1m0s\u001b[0m 2ms/step - accuracy: 0.8914 - loss: 0.3535 - val_accuracy: 0.9530 - val_loss: 0.2050\n",
      "Epoch 53/1000\n",
      "\u001b[1m100/141\u001b[0m \u001b[32m━━━━━━━━━━━━━━\u001b[0m\u001b[37m━━━━━━\u001b[0m \u001b[1m0s\u001b[0m 1ms/step - accuracy: 0.9038 - loss: 0.3173  \n",
      "Epoch 53: saving model to ./models/still-clockwise-anticlockwise-move\\model.keras\n",
      "\u001b[1m141/141\u001b[0m \u001b[32m━━━━━━━━━━━━━━━━━━━━\u001b[0m\u001b[37m\u001b[0m \u001b[1m0s\u001b[0m 1ms/step - accuracy: 0.9037 - loss: 0.3208 - val_accuracy: 0.9535 - val_loss: 0.2033\n",
      "Epoch 54/1000\n",
      "\u001b[1m104/141\u001b[0m \u001b[32m━━━━━━━━━━━━━━\u001b[0m\u001b[37m━━━━━━\u001b[0m \u001b[1m0s\u001b[0m 984us/step - accuracy: 0.9007 - loss: 0.3352\n",
      "Epoch 54: saving model to ./models/still-clockwise-anticlockwise-move\\model.keras\n",
      "\u001b[1m141/141\u001b[0m \u001b[32m━━━━━━━━━━━━━━━━━━━━\u001b[0m\u001b[37m\u001b[0m \u001b[1m0s\u001b[0m 2ms/step - accuracy: 0.9016 - loss: 0.3348 - val_accuracy: 0.9535 - val_loss: 0.2034\n",
      "Epoch 55/1000\n",
      "\u001b[1m137/141\u001b[0m \u001b[32m━━━━━━━━━━━━━━━━━━━\u001b[0m\u001b[37m━\u001b[0m \u001b[1m0s\u001b[0m 1ms/step - accuracy: 0.9062 - loss: 0.3267\n",
      "Epoch 55: saving model to ./models/still-clockwise-anticlockwise-move\\model.keras\n",
      "\u001b[1m141/141\u001b[0m \u001b[32m━━━━━━━━━━━━━━━━━━━━\u001b[0m\u001b[37m\u001b[0m \u001b[1m0s\u001b[0m 2ms/step - accuracy: 0.9062 - loss: 0.3267 - val_accuracy: 0.9545 - val_loss: 0.2030\n",
      "Epoch 56/1000\n",
      "\u001b[1m123/141\u001b[0m \u001b[32m━━━━━━━━━━━━━━━━━\u001b[0m\u001b[37m━━━\u001b[0m \u001b[1m0s\u001b[0m 1ms/step - accuracy: 0.9036 - loss: 0.3432\n",
      "Epoch 56: saving model to ./models/still-clockwise-anticlockwise-move\\model.keras\n",
      "\u001b[1m141/141\u001b[0m \u001b[32m━━━━━━━━━━━━━━━━━━━━\u001b[0m\u001b[37m\u001b[0m \u001b[1m0s\u001b[0m 2ms/step - accuracy: 0.9040 - loss: 0.3413 - val_accuracy: 0.9530 - val_loss: 0.1993\n",
      "Epoch 57/1000\n",
      "\u001b[1m133/141\u001b[0m \u001b[32m━━━━━━━━━━━━━━━━━━\u001b[0m\u001b[37m━━\u001b[0m \u001b[1m0s\u001b[0m 2ms/step - accuracy: 0.9029 - loss: 0.3466\n",
      "Epoch 57: saving model to ./models/still-clockwise-anticlockwise-move\\model.keras\n",
      "\u001b[1m141/141\u001b[0m \u001b[32m━━━━━━━━━━━━━━━━━━━━\u001b[0m\u001b[37m\u001b[0m \u001b[1m0s\u001b[0m 2ms/step - accuracy: 0.9030 - loss: 0.3458 - val_accuracy: 0.9525 - val_loss: 0.1997\n",
      "Epoch 58/1000\n",
      "\u001b[1m122/141\u001b[0m \u001b[32m━━━━━━━━━━━━━━━━━\u001b[0m\u001b[37m━━━\u001b[0m \u001b[1m0s\u001b[0m 2ms/step - accuracy: 0.9006 - loss: 0.3307\n",
      "Epoch 58: saving model to ./models/still-clockwise-anticlockwise-move\\model.keras\n",
      "\u001b[1m141/141\u001b[0m \u001b[32m━━━━━━━━━━━━━━━━━━━━\u001b[0m\u001b[37m\u001b[0m \u001b[1m0s\u001b[0m 2ms/step - accuracy: 0.9006 - loss: 0.3312 - val_accuracy: 0.9520 - val_loss: 0.2043\n",
      "Epoch 59/1000\n",
      "\u001b[1m129/141\u001b[0m \u001b[32m━━━━━━━━━━━━━━━━━━\u001b[0m\u001b[37m━━\u001b[0m \u001b[1m0s\u001b[0m 2ms/step - accuracy: 0.9057 - loss: 0.3269\n",
      "Epoch 59: saving model to ./models/still-clockwise-anticlockwise-move\\model.keras\n",
      "\u001b[1m141/141\u001b[0m \u001b[32m━━━━━━━━━━━━━━━━━━━━\u001b[0m\u001b[37m\u001b[0m \u001b[1m0s\u001b[0m 2ms/step - accuracy: 0.9058 - loss: 0.3274 - val_accuracy: 0.9515 - val_loss: 0.2033\n",
      "Epoch 60/1000\n",
      "\u001b[1m115/141\u001b[0m \u001b[32m━━━━━━━━━━━━━━━━\u001b[0m\u001b[37m━━━━\u001b[0m \u001b[1m0s\u001b[0m 1ms/step - accuracy: 0.9035 - loss: 0.3285\n",
      "Epoch 60: saving model to ./models/still-clockwise-anticlockwise-move\\model.keras\n",
      "\u001b[1m141/141\u001b[0m \u001b[32m━━━━━━━━━━━━━━━━━━━━\u001b[0m\u001b[37m\u001b[0m \u001b[1m0s\u001b[0m 2ms/step - accuracy: 0.9039 - loss: 0.3296 - val_accuracy: 0.9495 - val_loss: 0.2032\n",
      "Epoch 61/1000\n",
      "\u001b[1m115/141\u001b[0m \u001b[32m━━━━━━━━━━━━━━━━\u001b[0m\u001b[37m━━━━\u001b[0m \u001b[1m0s\u001b[0m 895us/step - accuracy: 0.9105 - loss: 0.3076\n",
      "Epoch 61: saving model to ./models/still-clockwise-anticlockwise-move\\model.keras\n",
      "\u001b[1m141/141\u001b[0m \u001b[32m━━━━━━━━━━━━━━━━━━━━\u001b[0m\u001b[37m\u001b[0m \u001b[1m0s\u001b[0m 1ms/step - accuracy: 0.9100 - loss: 0.3078 - val_accuracy: 0.9545 - val_loss: 0.1958\n",
      "Epoch 62/1000\n",
      "\u001b[1m 94/141\u001b[0m \u001b[32m━━━━━━━━━━━━━\u001b[0m\u001b[37m━━━━━━━\u001b[0m \u001b[1m0s\u001b[0m 1ms/step - accuracy: 0.9061 - loss: 0.3313\n",
      "Epoch 62: saving model to ./models/still-clockwise-anticlockwise-move\\model.keras\n",
      "\u001b[1m141/141\u001b[0m \u001b[32m━━━━━━━━━━━━━━━━━━━━\u001b[0m\u001b[37m\u001b[0m \u001b[1m0s\u001b[0m 1ms/step - accuracy: 0.9061 - loss: 0.3280 - val_accuracy: 0.9520 - val_loss: 0.1972\n",
      "Epoch 63/1000\n",
      "\u001b[1m 97/141\u001b[0m \u001b[32m━━━━━━━━━━━━━\u001b[0m\u001b[37m━━━━━━━\u001b[0m \u001b[1m0s\u001b[0m 1ms/step - accuracy: 0.9081 - loss: 0.3257\n",
      "Epoch 63: saving model to ./models/still-clockwise-anticlockwise-move\\model.keras\n",
      "\u001b[1m141/141\u001b[0m \u001b[32m━━━━━━━━━━━━━━━━━━━━\u001b[0m\u001b[37m\u001b[0m \u001b[1m0s\u001b[0m 2ms/step - accuracy: 0.9073 - loss: 0.3268 - val_accuracy: 0.9510 - val_loss: 0.1959\n",
      "Epoch 64/1000\n",
      "\u001b[1m115/141\u001b[0m \u001b[32m━━━━━━━━━━━━━━━━\u001b[0m\u001b[37m━━━━\u001b[0m \u001b[1m0s\u001b[0m 886us/step - accuracy: 0.9058 - loss: 0.3448\n",
      "Epoch 64: saving model to ./models/still-clockwise-anticlockwise-move\\model.keras\n",
      "\u001b[1m141/141\u001b[0m \u001b[32m━━━━━━━━━━━━━━━━━━━━\u001b[0m\u001b[37m\u001b[0m \u001b[1m0s\u001b[0m 1ms/step - accuracy: 0.9061 - loss: 0.3412 - val_accuracy: 0.9520 - val_loss: 0.1954\n",
      "Epoch 65/1000\n",
      "\u001b[1m102/141\u001b[0m \u001b[32m━━━━━━━━━━━━━━\u001b[0m\u001b[37m━━━━━━\u001b[0m \u001b[1m0s\u001b[0m 995us/step - accuracy: 0.9037 - loss: 0.3313\n",
      "Epoch 65: saving model to ./models/still-clockwise-anticlockwise-move\\model.keras\n",
      "\u001b[1m141/141\u001b[0m \u001b[32m━━━━━━━━━━━━━━━━━━━━\u001b[0m\u001b[37m\u001b[0m \u001b[1m0s\u001b[0m 2ms/step - accuracy: 0.9043 - loss: 0.3291 - val_accuracy: 0.9490 - val_loss: 0.1981\n",
      "Epoch 66/1000\n",
      "\u001b[1m117/141\u001b[0m \u001b[32m━━━━━━━━━━━━━━━━\u001b[0m\u001b[37m━━━━\u001b[0m \u001b[1m0s\u001b[0m 873us/step - accuracy: 0.9058 - loss: 0.3217\n",
      "Epoch 66: saving model to ./models/still-clockwise-anticlockwise-move\\model.keras\n",
      "\u001b[1m141/141\u001b[0m \u001b[32m━━━━━━━━━━━━━━━━━━━━\u001b[0m\u001b[37m\u001b[0m \u001b[1m0s\u001b[0m 1ms/step - accuracy: 0.9060 - loss: 0.3226 - val_accuracy: 0.9480 - val_loss: 0.1955\n",
      "Epoch 67/1000\n",
      "\u001b[1m111/141\u001b[0m \u001b[32m━━━━━━━━━━━━━━━\u001b[0m\u001b[37m━━━━━\u001b[0m \u001b[1m0s\u001b[0m 915us/step - accuracy: 0.9021 - loss: 0.3291\n",
      "Epoch 67: saving model to ./models/still-clockwise-anticlockwise-move\\model.keras\n",
      "\u001b[1m141/141\u001b[0m \u001b[32m━━━━━━━━━━━━━━━━━━━━\u001b[0m\u001b[37m\u001b[0m \u001b[1m0s\u001b[0m 1ms/step - accuracy: 0.9027 - loss: 0.3280 - val_accuracy: 0.9525 - val_loss: 0.1915\n",
      "Epoch 68/1000\n",
      "\u001b[1m116/141\u001b[0m \u001b[32m━━━━━━━━━━━━━━━━\u001b[0m\u001b[37m━━━━\u001b[0m \u001b[1m0s\u001b[0m 1ms/step - accuracy: 0.9036 - loss: 0.3401\n",
      "Epoch 68: saving model to ./models/still-clockwise-anticlockwise-move\\model.keras\n",
      "\u001b[1m141/141\u001b[0m \u001b[32m━━━━━━━━━━━━━━━━━━━━\u001b[0m\u001b[37m\u001b[0m \u001b[1m0s\u001b[0m 2ms/step - accuracy: 0.9040 - loss: 0.3371 - val_accuracy: 0.9510 - val_loss: 0.1926\n",
      "Epoch 69/1000\n",
      "\u001b[1m120/141\u001b[0m \u001b[32m━━━━━━━━━━━━━━━━━\u001b[0m\u001b[37m━━━\u001b[0m \u001b[1m0s\u001b[0m 843us/step - accuracy: 0.9041 - loss: 0.3277\n",
      "Epoch 69: saving model to ./models/still-clockwise-anticlockwise-move\\model.keras\n",
      "\u001b[1m141/141\u001b[0m \u001b[32m━━━━━━━━━━━━━━━━━━━━\u001b[0m\u001b[37m\u001b[0m \u001b[1m0s\u001b[0m 1ms/step - accuracy: 0.9043 - loss: 0.3275 - val_accuracy: 0.9485 - val_loss: 0.1962\n",
      "Epoch 70/1000\n",
      "\u001b[1m114/141\u001b[0m \u001b[32m━━━━━━━━━━━━━━━━\u001b[0m\u001b[37m━━━━\u001b[0m \u001b[1m0s\u001b[0m 895us/step - accuracy: 0.9071 - loss: 0.3162\n",
      "Epoch 70: saving model to ./models/still-clockwise-anticlockwise-move\\model.keras\n",
      "\u001b[1m141/141\u001b[0m \u001b[32m━━━━━━━━━━━━━━━━━━━━\u001b[0m\u001b[37m\u001b[0m \u001b[1m0s\u001b[0m 1ms/step - accuracy: 0.9073 - loss: 0.3168 - val_accuracy: 0.9500 - val_loss: 0.1952\n",
      "Epoch 71/1000\n",
      "\u001b[1m141/141\u001b[0m \u001b[32m━━━━━━━━━━━━━━━━━━━━\u001b[0m\u001b[37m\u001b[0m \u001b[1m0s\u001b[0m 1ms/step - accuracy: 0.9054 - loss: 0.3327\n",
      "Epoch 71: saving model to ./models/still-clockwise-anticlockwise-move\\model.keras\n",
      "\u001b[1m141/141\u001b[0m \u001b[32m━━━━━━━━━━━━━━━━━━━━\u001b[0m\u001b[37m\u001b[0m \u001b[1m0s\u001b[0m 2ms/step - accuracy: 0.9054 - loss: 0.3327 - val_accuracy: 0.9500 - val_loss: 0.1942\n",
      "Epoch 72/1000\n",
      "\u001b[1m123/141\u001b[0m \u001b[32m━━━━━━━━━━━━━━━━━\u001b[0m\u001b[37m━━━\u001b[0m \u001b[1m0s\u001b[0m 1ms/step - accuracy: 0.9053 - loss: 0.3272\n",
      "Epoch 72: saving model to ./models/still-clockwise-anticlockwise-move\\model.keras\n",
      "\u001b[1m141/141\u001b[0m \u001b[32m━━━━━━━━━━━━━━━━━━━━\u001b[0m\u001b[37m\u001b[0m \u001b[1m0s\u001b[0m 2ms/step - accuracy: 0.9057 - loss: 0.3269 - val_accuracy: 0.9495 - val_loss: 0.1920\n",
      "Epoch 73/1000\n",
      "\u001b[1m139/141\u001b[0m \u001b[32m━━━━━━━━━━━━━━━━━━━\u001b[0m\u001b[37m━\u001b[0m \u001b[1m0s\u001b[0m 1ms/step - accuracy: 0.9069 - loss: 0.3048\n",
      "Epoch 73: saving model to ./models/still-clockwise-anticlockwise-move\\model.keras\n",
      "\u001b[1m141/141\u001b[0m \u001b[32m━━━━━━━━━━━━━━━━━━━━\u001b[0m\u001b[37m\u001b[0m \u001b[1m0s\u001b[0m 1ms/step - accuracy: 0.9069 - loss: 0.3051 - val_accuracy: 0.9495 - val_loss: 0.1905\n",
      "Epoch 74/1000\n",
      "\u001b[1m123/141\u001b[0m \u001b[32m━━━━━━━━━━━━━━━━━\u001b[0m\u001b[37m━━━\u001b[0m \u001b[1m0s\u001b[0m 822us/step - accuracy: 0.9056 - loss: 0.3298\n",
      "Epoch 74: saving model to ./models/still-clockwise-anticlockwise-move\\model.keras\n",
      "\u001b[1m141/141\u001b[0m \u001b[32m━━━━━━━━━━━━━━━━━━━━\u001b[0m\u001b[37m\u001b[0m \u001b[1m0s\u001b[0m 1ms/step - accuracy: 0.9058 - loss: 0.3279 - val_accuracy: 0.9520 - val_loss: 0.1859\n",
      "Epoch 75/1000\n",
      "\u001b[1m107/141\u001b[0m \u001b[32m━━━━━━━━━━━━━━━\u001b[0m\u001b[37m━━━━━\u001b[0m \u001b[1m0s\u001b[0m 946us/step - accuracy: 0.9050 - loss: 0.3213\n",
      "Epoch 75: saving model to ./models/still-clockwise-anticlockwise-move\\model.keras\n",
      "\u001b[1m141/141\u001b[0m \u001b[32m━━━━━━━━━━━━━━━━━━━━\u001b[0m\u001b[37m\u001b[0m \u001b[1m0s\u001b[0m 1ms/step - accuracy: 0.9059 - loss: 0.3199 - val_accuracy: 0.9510 - val_loss: 0.1887\n",
      "Epoch 76/1000\n",
      "\u001b[1m120/141\u001b[0m \u001b[32m━━━━━━━━━━━━━━━━━\u001b[0m\u001b[37m━━━\u001b[0m \u001b[1m0s\u001b[0m 844us/step - accuracy: 0.9072 - loss: 0.3142\n",
      "Epoch 76: saving model to ./models/still-clockwise-anticlockwise-move\\model.keras\n",
      "\u001b[1m141/141\u001b[0m \u001b[32m━━━━━━━━━━━━━━━━━━━━\u001b[0m\u001b[37m\u001b[0m \u001b[1m0s\u001b[0m 1ms/step - accuracy: 0.9073 - loss: 0.3142 - val_accuracy: 0.9485 - val_loss: 0.1904\n",
      "Epoch 77/1000\n",
      "\u001b[1m101/141\u001b[0m \u001b[32m━━━━━━━━━━━━━━\u001b[0m\u001b[37m━━━━━━\u001b[0m \u001b[1m0s\u001b[0m 1ms/step - accuracy: 0.9105 - loss: 0.3156\n",
      "Epoch 77: saving model to ./models/still-clockwise-anticlockwise-move\\model.keras\n",
      "\u001b[1m141/141\u001b[0m \u001b[32m━━━━━━━━━━━━━━━━━━━━\u001b[0m\u001b[37m\u001b[0m \u001b[1m0s\u001b[0m 1ms/step - accuracy: 0.9098 - loss: 0.3161 - val_accuracy: 0.9505 - val_loss: 0.1876\n",
      "Epoch 78/1000\n",
      "\u001b[1m113/141\u001b[0m \u001b[32m━━━━━━━━━━━━━━━━\u001b[0m\u001b[37m━━━━\u001b[0m \u001b[1m0s\u001b[0m 907us/step - accuracy: 0.9035 - loss: 0.3329\n",
      "Epoch 78: saving model to ./models/still-clockwise-anticlockwise-move\\model.keras\n",
      "\u001b[1m141/141\u001b[0m \u001b[32m━━━━━━━━━━━━━━━━━━━━\u001b[0m\u001b[37m\u001b[0m \u001b[1m0s\u001b[0m 1ms/step - accuracy: 0.9042 - loss: 0.3313 - val_accuracy: 0.9495 - val_loss: 0.1842\n",
      "Epoch 79/1000\n",
      "\u001b[1m125/141\u001b[0m \u001b[32m━━━━━━━━━━━━━━━━━\u001b[0m\u001b[37m━━━\u001b[0m \u001b[1m0s\u001b[0m 808us/step - accuracy: 0.9070 - loss: 0.3243\n",
      "Epoch 79: saving model to ./models/still-clockwise-anticlockwise-move\\model.keras\n",
      "\u001b[1m141/141\u001b[0m \u001b[32m━━━━━━━━━━━━━━━━━━━━\u001b[0m\u001b[37m\u001b[0m \u001b[1m0s\u001b[0m 1ms/step - accuracy: 0.9071 - loss: 0.3241 - val_accuracy: 0.9490 - val_loss: 0.1854\n",
      "Epoch 80/1000\n",
      "\u001b[1m115/141\u001b[0m \u001b[32m━━━━━━━━━━━━━━━━\u001b[0m\u001b[37m━━━━\u001b[0m \u001b[1m0s\u001b[0m 888us/step - accuracy: 0.9105 - loss: 0.3047\n",
      "Epoch 80: saving model to ./models/still-clockwise-anticlockwise-move\\model.keras\n",
      "\u001b[1m141/141\u001b[0m \u001b[32m━━━━━━━━━━━━━━━━━━━━\u001b[0m\u001b[37m\u001b[0m \u001b[1m0s\u001b[0m 1ms/step - accuracy: 0.9099 - loss: 0.3072 - val_accuracy: 0.9505 - val_loss: 0.1849\n",
      "Epoch 81/1000\n",
      "\u001b[1m112/141\u001b[0m \u001b[32m━━━━━━━━━━━━━━━\u001b[0m\u001b[37m━━━━━\u001b[0m \u001b[1m0s\u001b[0m 901us/step - accuracy: 0.9111 - loss: 0.3166\n",
      "Epoch 81: saving model to ./models/still-clockwise-anticlockwise-move\\model.keras\n",
      "\u001b[1m141/141\u001b[0m \u001b[32m━━━━━━━━━━━━━━━━━━━━\u001b[0m\u001b[37m\u001b[0m \u001b[1m0s\u001b[0m 1ms/step - accuracy: 0.9106 - loss: 0.3158 - val_accuracy: 0.9515 - val_loss: 0.1826\n",
      "Epoch 82/1000\n",
      "\u001b[1m114/141\u001b[0m \u001b[32m━━━━━━━━━━━━━━━━\u001b[0m\u001b[37m━━━━\u001b[0m \u001b[1m0s\u001b[0m 894us/step - accuracy: 0.9109 - loss: 0.3107\n",
      "Epoch 82: saving model to ./models/still-clockwise-anticlockwise-move\\model.keras\n",
      "\u001b[1m141/141\u001b[0m \u001b[32m━━━━━━━━━━━━━━━━━━━━\u001b[0m\u001b[37m\u001b[0m \u001b[1m0s\u001b[0m 1ms/step - accuracy: 0.9108 - loss: 0.3100 - val_accuracy: 0.9475 - val_loss: 0.1849\n",
      "Epoch 83/1000\n",
      "\u001b[1m115/141\u001b[0m \u001b[32m━━━━━━━━━━━━━━━━\u001b[0m\u001b[37m━━━━\u001b[0m \u001b[1m0s\u001b[0m 889us/step - accuracy: 0.9107 - loss: 0.3010\n",
      "Epoch 83: saving model to ./models/still-clockwise-anticlockwise-move\\model.keras\n",
      "\u001b[1m141/141\u001b[0m \u001b[32m━━━━━━━━━━━━━━━━━━━━\u001b[0m\u001b[37m\u001b[0m \u001b[1m0s\u001b[0m 1ms/step - accuracy: 0.9103 - loss: 0.3024 - val_accuracy: 0.9510 - val_loss: 0.1836\n",
      "Epoch 84/1000\n",
      "\u001b[1m139/141\u001b[0m \u001b[32m━━━━━━━━━━━━━━━━━━━\u001b[0m\u001b[37m━\u001b[0m \u001b[1m0s\u001b[0m 1ms/step - accuracy: 0.9102 - loss: 0.3050  \n",
      "Epoch 84: saving model to ./models/still-clockwise-anticlockwise-move\\model.keras\n",
      "\u001b[1m141/141\u001b[0m \u001b[32m━━━━━━━━━━━━━━━━━━━━\u001b[0m\u001b[37m\u001b[0m \u001b[1m0s\u001b[0m 2ms/step - accuracy: 0.9101 - loss: 0.3050 - val_accuracy: 0.9500 - val_loss: 0.1812\n",
      "Epoch 85/1000\n",
      "\u001b[1m135/141\u001b[0m \u001b[32m━━━━━━━━━━━━━━━━━━━\u001b[0m\u001b[37m━\u001b[0m \u001b[1m0s\u001b[0m 1ms/step - accuracy: 0.9090 - loss: 0.3130\n",
      "Epoch 85: saving model to ./models/still-clockwise-anticlockwise-move\\model.keras\n",
      "\u001b[1m141/141\u001b[0m \u001b[32m━━━━━━━━━━━━━━━━━━━━\u001b[0m\u001b[37m\u001b[0m \u001b[1m0s\u001b[0m 2ms/step - accuracy: 0.9090 - loss: 0.3127 - val_accuracy: 0.9485 - val_loss: 0.1839\n",
      "Epoch 86/1000\n",
      "\u001b[1m 97/141\u001b[0m \u001b[32m━━━━━━━━━━━━━\u001b[0m\u001b[37m━━━━━━━\u001b[0m \u001b[1m0s\u001b[0m 1ms/step - accuracy: 0.9128 - loss: 0.2985\n",
      "Epoch 86: saving model to ./models/still-clockwise-anticlockwise-move\\model.keras\n",
      "\u001b[1m141/141\u001b[0m \u001b[32m━━━━━━━━━━━━━━━━━━━━\u001b[0m\u001b[37m\u001b[0m \u001b[1m0s\u001b[0m 1ms/step - accuracy: 0.9110 - loss: 0.3040 - val_accuracy: 0.9495 - val_loss: 0.1844\n",
      "Epoch 87/1000\n",
      "\u001b[1m113/141\u001b[0m \u001b[32m━━━━━━━━━━━━━━━━\u001b[0m\u001b[37m━━━━\u001b[0m \u001b[1m0s\u001b[0m 902us/step - accuracy: 0.9084 - loss: 0.2997\n",
      "Epoch 87: saving model to ./models/still-clockwise-anticlockwise-move\\model.keras\n",
      "\u001b[1m141/141\u001b[0m \u001b[32m━━━━━━━━━━━━━━━━━━━━\u001b[0m\u001b[37m\u001b[0m \u001b[1m0s\u001b[0m 1ms/step - accuracy: 0.9084 - loss: 0.3016 - val_accuracy: 0.9475 - val_loss: 0.1859\n",
      "Epoch 88/1000\n",
      "\u001b[1m114/141\u001b[0m \u001b[32m━━━━━━━━━━━━━━━━\u001b[0m\u001b[37m━━━━\u001b[0m \u001b[1m0s\u001b[0m 889us/step - accuracy: 0.9059 - loss: 0.3162\n",
      "Epoch 88: saving model to ./models/still-clockwise-anticlockwise-move\\model.keras\n",
      "\u001b[1m141/141\u001b[0m \u001b[32m━━━━━━━━━━━━━━━━━━━━\u001b[0m\u001b[37m\u001b[0m \u001b[1m0s\u001b[0m 1ms/step - accuracy: 0.9063 - loss: 0.3159 - val_accuracy: 0.9490 - val_loss: 0.1798\n",
      "Epoch 89/1000\n",
      "\u001b[1m112/141\u001b[0m \u001b[32m━━━━━━━━━━━━━━━\u001b[0m\u001b[37m━━━━━\u001b[0m \u001b[1m0s\u001b[0m 902us/step - accuracy: 0.9129 - loss: 0.3191\n",
      "Epoch 89: saving model to ./models/still-clockwise-anticlockwise-move\\model.keras\n",
      "\u001b[1m141/141\u001b[0m \u001b[32m━━━━━━━━━━━━━━━━━━━━\u001b[0m\u001b[37m\u001b[0m \u001b[1m0s\u001b[0m 1ms/step - accuracy: 0.9120 - loss: 0.3200 - val_accuracy: 0.9490 - val_loss: 0.1843\n",
      "Epoch 90/1000\n",
      "\u001b[1m115/141\u001b[0m \u001b[32m━━━━━━━━━━━━━━━━\u001b[0m\u001b[37m━━━━\u001b[0m \u001b[1m0s\u001b[0m 888us/step - accuracy: 0.9107 - loss: 0.3064\n",
      "Epoch 90: saving model to ./models/still-clockwise-anticlockwise-move\\model.keras\n",
      "\u001b[1m141/141\u001b[0m \u001b[32m━━━━━━━━━━━━━━━━━━━━\u001b[0m\u001b[37m\u001b[0m \u001b[1m0s\u001b[0m 1ms/step - accuracy: 0.9103 - loss: 0.3064 - val_accuracy: 0.9485 - val_loss: 0.1834\n",
      "Epoch 91/1000\n",
      "\u001b[1m116/141\u001b[0m \u001b[32m━━━━━━━━━━━━━━━━\u001b[0m\u001b[37m━━━━\u001b[0m \u001b[1m0s\u001b[0m 882us/step - accuracy: 0.9099 - loss: 0.3138\n",
      "Epoch 91: saving model to ./models/still-clockwise-anticlockwise-move\\model.keras\n",
      "\u001b[1m141/141\u001b[0m \u001b[32m━━━━━━━━━━━━━━━━━━━━\u001b[0m\u001b[37m\u001b[0m \u001b[1m0s\u001b[0m 1ms/step - accuracy: 0.9098 - loss: 0.3142 - val_accuracy: 0.9490 - val_loss: 0.1808\n",
      "Epoch 92/1000\n",
      "\u001b[1m113/141\u001b[0m \u001b[32m━━━━━━━━━━━━━━━━\u001b[0m\u001b[37m━━━━\u001b[0m \u001b[1m0s\u001b[0m 904us/step - accuracy: 0.9071 - loss: 0.3146\n",
      "Epoch 92: saving model to ./models/still-clockwise-anticlockwise-move\\model.keras\n",
      "\u001b[1m141/141\u001b[0m \u001b[32m━━━━━━━━━━━━━━━━━━━━\u001b[0m\u001b[37m\u001b[0m \u001b[1m0s\u001b[0m 1ms/step - accuracy: 0.9074 - loss: 0.3140 - val_accuracy: 0.9480 - val_loss: 0.1806\n",
      "Epoch 93/1000\n",
      "\u001b[1m133/141\u001b[0m \u001b[32m━━━━━━━━━━━━━━━━━━\u001b[0m\u001b[37m━━\u001b[0m \u001b[1m0s\u001b[0m 1ms/step - accuracy: 0.9071 - loss: 0.3142\n",
      "Epoch 93: saving model to ./models/still-clockwise-anticlockwise-move\\model.keras\n",
      "\u001b[1m141/141\u001b[0m \u001b[32m━━━━━━━━━━━━━━━━━━━━\u001b[0m\u001b[37m\u001b[0m \u001b[1m0s\u001b[0m 2ms/step - accuracy: 0.9074 - loss: 0.3138 - val_accuracy: 0.9470 - val_loss: 0.1796\n",
      "Epoch 94/1000\n",
      "\u001b[1m133/141\u001b[0m \u001b[32m━━━━━━━━━━━━━━━━━━\u001b[0m\u001b[37m━━\u001b[0m \u001b[1m0s\u001b[0m 1ms/step - accuracy: 0.9090 - loss: 0.3180\n",
      "Epoch 94: saving model to ./models/still-clockwise-anticlockwise-move\\model.keras\n",
      "\u001b[1m141/141\u001b[0m \u001b[32m━━━━━━━━━━━━━━━━━━━━\u001b[0m\u001b[37m\u001b[0m \u001b[1m0s\u001b[0m 2ms/step - accuracy: 0.9090 - loss: 0.3174 - val_accuracy: 0.9515 - val_loss: 0.1795\n",
      "Epoch 95/1000\n",
      "\u001b[1m106/141\u001b[0m \u001b[32m━━━━━━━━━━━━━━━\u001b[0m\u001b[37m━━━━━\u001b[0m \u001b[1m0s\u001b[0m 1ms/step - accuracy: 0.9094 - loss: 0.3191\n",
      "Epoch 95: saving model to ./models/still-clockwise-anticlockwise-move\\model.keras\n",
      "\u001b[1m141/141\u001b[0m \u001b[32m━━━━━━━━━━━━━━━━━━━━\u001b[0m\u001b[37m\u001b[0m \u001b[1m0s\u001b[0m 2ms/step - accuracy: 0.9094 - loss: 0.3172 - val_accuracy: 0.9500 - val_loss: 0.1786\n",
      "Epoch 96/1000\n",
      "\u001b[1m111/141\u001b[0m \u001b[32m━━━━━━━━━━━━━━━\u001b[0m\u001b[37m━━━━━\u001b[0m \u001b[1m0s\u001b[0m 1ms/step - accuracy: 0.9102 - loss: 0.3031\n",
      "Epoch 96: saving model to ./models/still-clockwise-anticlockwise-move\\model.keras\n",
      "\u001b[1m141/141\u001b[0m \u001b[32m━━━━━━━━━━━━━━━━━━━━\u001b[0m\u001b[37m\u001b[0m \u001b[1m0s\u001b[0m 2ms/step - accuracy: 0.9106 - loss: 0.3033 - val_accuracy: 0.9470 - val_loss: 0.1855\n",
      "Epoch 97/1000\n",
      "\u001b[1m127/141\u001b[0m \u001b[32m━━━━━━━━━━━━━━━━━━\u001b[0m\u001b[37m━━\u001b[0m \u001b[1m0s\u001b[0m 802us/step - accuracy: 0.9075 - loss: 0.3045\n",
      "Epoch 97: saving model to ./models/still-clockwise-anticlockwise-move\\model.keras\n",
      "\u001b[1m141/141\u001b[0m \u001b[32m━━━━━━━━━━━━━━━━━━━━\u001b[0m\u001b[37m\u001b[0m \u001b[1m0s\u001b[0m 1ms/step - accuracy: 0.9076 - loss: 0.3044 - val_accuracy: 0.9485 - val_loss: 0.1790\n",
      "Epoch 98/1000\n",
      "\u001b[1m132/141\u001b[0m \u001b[32m━━━━━━━━━━━━━━━━━━\u001b[0m\u001b[37m━━\u001b[0m \u001b[1m0s\u001b[0m 771us/step - accuracy: 0.9120 - loss: 0.3108\n",
      "Epoch 98: saving model to ./models/still-clockwise-anticlockwise-move\\model.keras\n",
      "\u001b[1m141/141\u001b[0m \u001b[32m━━━━━━━━━━━━━━━━━━━━\u001b[0m\u001b[37m\u001b[0m \u001b[1m0s\u001b[0m 1ms/step - accuracy: 0.9119 - loss: 0.3104 - val_accuracy: 0.9475 - val_loss: 0.1793\n",
      "Epoch 99/1000\n",
      "\u001b[1m122/141\u001b[0m \u001b[32m━━━━━━━━━━━━━━━━━\u001b[0m\u001b[37m━━━\u001b[0m \u001b[1m0s\u001b[0m 827us/step - accuracy: 0.9003 - loss: 0.3261\n",
      "Epoch 99: saving model to ./models/still-clockwise-anticlockwise-move\\model.keras\n",
      "\u001b[1m141/141\u001b[0m \u001b[32m━━━━━━━━━━━━━━━━━━━━\u001b[0m\u001b[37m\u001b[0m \u001b[1m0s\u001b[0m 1ms/step - accuracy: 0.9010 - loss: 0.3245 - val_accuracy: 0.9485 - val_loss: 0.1772\n",
      "Epoch 100/1000\n",
      "\u001b[1m114/141\u001b[0m \u001b[32m━━━━━━━━━━━━━━━━\u001b[0m\u001b[37m━━━━\u001b[0m \u001b[1m0s\u001b[0m 901us/step - accuracy: 0.9098 - loss: 0.3020\n",
      "Epoch 100: saving model to ./models/still-clockwise-anticlockwise-move\\model.keras\n",
      "\u001b[1m141/141\u001b[0m \u001b[32m━━━━━━━━━━━━━━━━━━━━\u001b[0m\u001b[37m\u001b[0m \u001b[1m0s\u001b[0m 1ms/step - accuracy: 0.9097 - loss: 0.3033 - val_accuracy: 0.9455 - val_loss: 0.1837\n",
      "Epoch 101/1000\n",
      "\u001b[1m118/141\u001b[0m \u001b[32m━━━━━━━━━━━━━━━━\u001b[0m\u001b[37m━━━━\u001b[0m \u001b[1m0s\u001b[0m 863us/step - accuracy: 0.9084 - loss: 0.3082\n",
      "Epoch 101: saving model to ./models/still-clockwise-anticlockwise-move\\model.keras\n",
      "\u001b[1m141/141\u001b[0m \u001b[32m━━━━━━━━━━━━━━━━━━━━\u001b[0m\u001b[37m\u001b[0m \u001b[1m0s\u001b[0m 1ms/step - accuracy: 0.9088 - loss: 0.3068 - val_accuracy: 0.9455 - val_loss: 0.1831\n",
      "Epoch 102/1000\n",
      "\u001b[1m124/141\u001b[0m \u001b[32m━━━━━━━━━━━━━━━━━\u001b[0m\u001b[37m━━━\u001b[0m \u001b[1m0s\u001b[0m 818us/step - accuracy: 0.9110 - loss: 0.3056\n",
      "Epoch 102: saving model to ./models/still-clockwise-anticlockwise-move\\model.keras\n",
      "\u001b[1m141/141\u001b[0m \u001b[32m━━━━━━━━━━━━━━━━━━━━\u001b[0m\u001b[37m\u001b[0m \u001b[1m0s\u001b[0m 1ms/step - accuracy: 0.9108 - loss: 0.3065 - val_accuracy: 0.9460 - val_loss: 0.1840\n",
      "Epoch 103/1000\n",
      "\u001b[1m115/141\u001b[0m \u001b[32m━━━━━━━━━━━━━━━━\u001b[0m\u001b[37m━━━━\u001b[0m \u001b[1m0s\u001b[0m 879us/step - accuracy: 0.9111 - loss: 0.2921\n",
      "Epoch 103: saving model to ./models/still-clockwise-anticlockwise-move\\model.keras\n",
      "\u001b[1m141/141\u001b[0m \u001b[32m━━━━━━━━━━━━━━━━━━━━\u001b[0m\u001b[37m\u001b[0m \u001b[1m0s\u001b[0m 2ms/step - accuracy: 0.9108 - loss: 0.2933 - val_accuracy: 0.9510 - val_loss: 0.1780\n",
      "Epoch 104/1000\n",
      "\u001b[1m111/141\u001b[0m \u001b[32m━━━━━━━━━━━━━━━\u001b[0m\u001b[37m━━━━━\u001b[0m \u001b[1m0s\u001b[0m 920us/step - accuracy: 0.9030 - loss: 0.3171\n",
      "Epoch 104: saving model to ./models/still-clockwise-anticlockwise-move\\model.keras\n",
      "\u001b[1m141/141\u001b[0m \u001b[32m━━━━━━━━━━━━━━━━━━━━\u001b[0m\u001b[37m\u001b[0m \u001b[1m0s\u001b[0m 1ms/step - accuracy: 0.9041 - loss: 0.3145 - val_accuracy: 0.9470 - val_loss: 0.1803\n",
      "Epoch 105/1000\n",
      "\u001b[1m117/141\u001b[0m \u001b[32m━━━━━━━━━━━━━━━━\u001b[0m\u001b[37m━━━━\u001b[0m \u001b[1m0s\u001b[0m 867us/step - accuracy: 0.9067 - loss: 0.3073\n",
      "Epoch 105: saving model to ./models/still-clockwise-anticlockwise-move\\model.keras\n",
      "\u001b[1m141/141\u001b[0m \u001b[32m━━━━━━━━━━━━━━━━━━━━\u001b[0m\u001b[37m\u001b[0m \u001b[1m0s\u001b[0m 1ms/step - accuracy: 0.9076 - loss: 0.3056 - val_accuracy: 0.9455 - val_loss: 0.1801\n",
      "Epoch 106/1000\n",
      "\u001b[1m132/141\u001b[0m \u001b[32m━━━━━━━━━━━━━━━━━━\u001b[0m\u001b[37m━━\u001b[0m \u001b[1m0s\u001b[0m 1ms/step - accuracy: 0.9081 - loss: 0.3124\n",
      "Epoch 106: saving model to ./models/still-clockwise-anticlockwise-move\\model.keras\n",
      "\u001b[1m141/141\u001b[0m \u001b[32m━━━━━━━━━━━━━━━━━━━━\u001b[0m\u001b[37m\u001b[0m \u001b[1m0s\u001b[0m 2ms/step - accuracy: 0.9081 - loss: 0.3117 - val_accuracy: 0.9445 - val_loss: 0.1792\n",
      "Epoch 107/1000\n",
      "\u001b[1m135/141\u001b[0m \u001b[32m━━━━━━━━━━━━━━━━━━━\u001b[0m\u001b[37m━\u001b[0m \u001b[1m0s\u001b[0m 1ms/step - accuracy: 0.9055 - loss: 0.3177\n",
      "Epoch 107: saving model to ./models/still-clockwise-anticlockwise-move\\model.keras\n",
      "\u001b[1m141/141\u001b[0m \u001b[32m━━━━━━━━━━━━━━━━━━━━\u001b[0m\u001b[37m\u001b[0m \u001b[1m0s\u001b[0m 2ms/step - accuracy: 0.9056 - loss: 0.3174 - val_accuracy: 0.9470 - val_loss: 0.1790\n",
      "Epoch 108/1000\n",
      "\u001b[1m132/141\u001b[0m \u001b[32m━━━━━━━━━━━━━━━━━━\u001b[0m\u001b[37m━━\u001b[0m \u001b[1m0s\u001b[0m 776us/step - accuracy: 0.9110 - loss: 0.3108\n",
      "Epoch 108: saving model to ./models/still-clockwise-anticlockwise-move\\model.keras\n",
      "\u001b[1m141/141\u001b[0m \u001b[32m━━━━━━━━━━━━━━━━━━━━\u001b[0m\u001b[37m\u001b[0m \u001b[1m0s\u001b[0m 1ms/step - accuracy: 0.9109 - loss: 0.3106 - val_accuracy: 0.9475 - val_loss: 0.1804\n",
      "Epoch 109/1000\n",
      "\u001b[1m115/141\u001b[0m \u001b[32m━━━━━━━━━━━━━━━━\u001b[0m\u001b[37m━━━━\u001b[0m \u001b[1m0s\u001b[0m 880us/step - accuracy: 0.9095 - loss: 0.3048\n",
      "Epoch 109: saving model to ./models/still-clockwise-anticlockwise-move\\model.keras\n",
      "\u001b[1m141/141\u001b[0m \u001b[32m━━━━━━━━━━━━━━━━━━━━\u001b[0m\u001b[37m\u001b[0m \u001b[1m0s\u001b[0m 1ms/step - accuracy: 0.9094 - loss: 0.3043 - val_accuracy: 0.9470 - val_loss: 0.1819\n",
      "Epoch 110/1000\n",
      "\u001b[1m108/141\u001b[0m \u001b[32m━━━━━━━━━━━━━━━\u001b[0m\u001b[37m━━━━━\u001b[0m \u001b[1m0s\u001b[0m 940us/step - accuracy: 0.9062 - loss: 0.3079\n",
      "Epoch 110: saving model to ./models/still-clockwise-anticlockwise-move\\model.keras\n",
      "\u001b[1m141/141\u001b[0m \u001b[32m━━━━━━━━━━━━━━━━━━━━\u001b[0m\u001b[37m\u001b[0m \u001b[1m0s\u001b[0m 2ms/step - accuracy: 0.9063 - loss: 0.3083 - val_accuracy: 0.9470 - val_loss: 0.1800\n",
      "Epoch 111/1000\n",
      "\u001b[1m125/141\u001b[0m \u001b[32m━━━━━━━━━━━━━━━━━\u001b[0m\u001b[37m━━━\u001b[0m \u001b[1m0s\u001b[0m 1ms/step - accuracy: 0.9157 - loss: 0.2914\n",
      "Epoch 111: saving model to ./models/still-clockwise-anticlockwise-move\\model.keras\n",
      "\u001b[1m141/141\u001b[0m \u001b[32m━━━━━━━━━━━━━━━━━━━━\u001b[0m\u001b[37m\u001b[0m \u001b[1m0s\u001b[0m 2ms/step - accuracy: 0.9156 - loss: 0.2918 - val_accuracy: 0.9505 - val_loss: 0.1760\n",
      "Epoch 112/1000\n",
      "\u001b[1m139/141\u001b[0m \u001b[32m━━━━━━━━━━━━━━━━━━━\u001b[0m\u001b[37m━\u001b[0m \u001b[1m0s\u001b[0m 1ms/step - accuracy: 0.9071 - loss: 0.3140\n",
      "Epoch 112: saving model to ./models/still-clockwise-anticlockwise-move\\model.keras\n",
      "\u001b[1m141/141\u001b[0m \u001b[32m━━━━━━━━━━━━━━━━━━━━\u001b[0m\u001b[37m\u001b[0m \u001b[1m0s\u001b[0m 2ms/step - accuracy: 0.9072 - loss: 0.3137 - val_accuracy: 0.9455 - val_loss: 0.1808\n",
      "Epoch 113/1000\n",
      "\u001b[1m109/141\u001b[0m \u001b[32m━━━━━━━━━━━━━━━\u001b[0m\u001b[37m━━━━━\u001b[0m \u001b[1m0s\u001b[0m 946us/step - accuracy: 0.9103 - loss: 0.2994\n",
      "Epoch 113: saving model to ./models/still-clockwise-anticlockwise-move\\model.keras\n",
      "\u001b[1m141/141\u001b[0m \u001b[32m━━━━━━━━━━━━━━━━━━━━\u001b[0m\u001b[37m\u001b[0m \u001b[1m0s\u001b[0m 1ms/step - accuracy: 0.9103 - loss: 0.2995 - val_accuracy: 0.9495 - val_loss: 0.1745\n",
      "Epoch 114/1000\n",
      "\u001b[1m127/141\u001b[0m \u001b[32m━━━━━━━━━━━━━━━━━━\u001b[0m\u001b[37m━━\u001b[0m \u001b[1m0s\u001b[0m 799us/step - accuracy: 0.9133 - loss: 0.3174\n",
      "Epoch 114: saving model to ./models/still-clockwise-anticlockwise-move\\model.keras\n",
      "\u001b[1m141/141\u001b[0m \u001b[32m━━━━━━━━━━━━━━━━━━━━\u001b[0m\u001b[37m\u001b[0m \u001b[1m0s\u001b[0m 1ms/step - accuracy: 0.9132 - loss: 0.3167 - val_accuracy: 0.9485 - val_loss: 0.1781\n",
      "Epoch 115/1000\n",
      "\u001b[1m127/141\u001b[0m \u001b[32m━━━━━━━━━━━━━━━━━━\u001b[0m\u001b[37m━━\u001b[0m \u001b[1m0s\u001b[0m 809us/step - accuracy: 0.9093 - loss: 0.3138\n",
      "Epoch 115: saving model to ./models/still-clockwise-anticlockwise-move\\model.keras\n",
      "\u001b[1m141/141\u001b[0m \u001b[32m━━━━━━━━━━━━━━━━━━━━\u001b[0m\u001b[37m\u001b[0m \u001b[1m0s\u001b[0m 1ms/step - accuracy: 0.9093 - loss: 0.3134 - val_accuracy: 0.9465 - val_loss: 0.1823\n",
      "Epoch 116/1000\n",
      "\u001b[1m127/141\u001b[0m \u001b[32m━━━━━━━━━━━━━━━━━━\u001b[0m\u001b[37m━━\u001b[0m \u001b[1m0s\u001b[0m 805us/step - accuracy: 0.9125 - loss: 0.2907\n",
      "Epoch 116: saving model to ./models/still-clockwise-anticlockwise-move\\model.keras\n",
      "\u001b[1m141/141\u001b[0m \u001b[32m━━━━━━━━━━━━━━━━━━━━\u001b[0m\u001b[37m\u001b[0m \u001b[1m0s\u001b[0m 1ms/step - accuracy: 0.9122 - loss: 0.2918 - val_accuracy: 0.9460 - val_loss: 0.1804\n",
      "Epoch 117/1000\n",
      "\u001b[1m123/141\u001b[0m \u001b[32m━━━━━━━━━━━━━━━━━\u001b[0m\u001b[37m━━━\u001b[0m \u001b[1m0s\u001b[0m 827us/step - accuracy: 0.9128 - loss: 0.2905\n",
      "Epoch 117: saving model to ./models/still-clockwise-anticlockwise-move\\model.keras\n",
      "\u001b[1m141/141\u001b[0m \u001b[32m━━━━━━━━━━━━━━━━━━━━\u001b[0m\u001b[37m\u001b[0m \u001b[1m0s\u001b[0m 1ms/step - accuracy: 0.9124 - loss: 0.2919 - val_accuracy: 0.9470 - val_loss: 0.1798\n",
      "Epoch 118/1000\n",
      "\u001b[1m125/141\u001b[0m \u001b[32m━━━━━━━━━━━━━━━━━\u001b[0m\u001b[37m━━━\u001b[0m \u001b[1m0s\u001b[0m 813us/step - accuracy: 0.9145 - loss: 0.2862\n",
      "Epoch 118: saving model to ./models/still-clockwise-anticlockwise-move\\model.keras\n",
      "\u001b[1m141/141\u001b[0m \u001b[32m━━━━━━━━━━━━━━━━━━━━\u001b[0m\u001b[37m\u001b[0m \u001b[1m0s\u001b[0m 1ms/step - accuracy: 0.9141 - loss: 0.2882 - val_accuracy: 0.9430 - val_loss: 0.1850\n",
      "Epoch 119/1000\n",
      "\u001b[1m126/141\u001b[0m \u001b[32m━━━━━━━━━━━━━━━━━\u001b[0m\u001b[37m━━━\u001b[0m \u001b[1m0s\u001b[0m 811us/step - accuracy: 0.9115 - loss: 0.3123\n",
      "Epoch 119: saving model to ./models/still-clockwise-anticlockwise-move\\model.keras\n",
      "\u001b[1m141/141\u001b[0m \u001b[32m━━━━━━━━━━━━━━━━━━━━\u001b[0m\u001b[37m\u001b[0m \u001b[1m0s\u001b[0m 1ms/step - accuracy: 0.9114 - loss: 0.3114 - val_accuracy: 0.9490 - val_loss: 0.1749\n",
      "Epoch 120/1000\n",
      "\u001b[1m110/141\u001b[0m \u001b[32m━━━━━━━━━━━━━━━\u001b[0m\u001b[37m━━━━━\u001b[0m \u001b[1m0s\u001b[0m 2ms/step - accuracy: 0.9072 - loss: 0.3061\n",
      "Epoch 120: saving model to ./models/still-clockwise-anticlockwise-move\\model.keras\n",
      "\u001b[1m141/141\u001b[0m \u001b[32m━━━━━━━━━━━━━━━━━━━━\u001b[0m\u001b[37m\u001b[0m \u001b[1m0s\u001b[0m 2ms/step - accuracy: 0.9082 - loss: 0.3041 - val_accuracy: 0.9505 - val_loss: 0.1709\n",
      "Epoch 121/1000\n",
      "\u001b[1m107/141\u001b[0m \u001b[32m━━━━━━━━━━━━━━━\u001b[0m\u001b[37m━━━━━\u001b[0m \u001b[1m0s\u001b[0m 953us/step - accuracy: 0.9139 - loss: 0.2981\n",
      "Epoch 121: saving model to ./models/still-clockwise-anticlockwise-move\\model.keras\n",
      "\u001b[1m141/141\u001b[0m \u001b[32m━━━━━━━━━━━━━━━━━━━━\u001b[0m\u001b[37m\u001b[0m \u001b[1m0s\u001b[0m 1ms/step - accuracy: 0.9131 - loss: 0.3000 - val_accuracy: 0.9465 - val_loss: 0.1770\n",
      "Epoch 122/1000\n",
      "\u001b[1m116/141\u001b[0m \u001b[32m━━━━━━━━━━━━━━━━\u001b[0m\u001b[37m━━━━\u001b[0m \u001b[1m0s\u001b[0m 874us/step - accuracy: 0.9082 - loss: 0.3043\n",
      "Epoch 122: saving model to ./models/still-clockwise-anticlockwise-move\\model.keras\n",
      "\u001b[1m141/141\u001b[0m \u001b[32m━━━━━━━━━━━━━━━━━━━━\u001b[0m\u001b[37m\u001b[0m \u001b[1m0s\u001b[0m 1ms/step - accuracy: 0.9086 - loss: 0.3046 - val_accuracy: 0.9450 - val_loss: 0.1821\n",
      "Epoch 123/1000\n",
      "\u001b[1m108/141\u001b[0m \u001b[32m━━━━━━━━━━━━━━━\u001b[0m\u001b[37m━━━━━\u001b[0m \u001b[1m0s\u001b[0m 957us/step - accuracy: 0.9117 - loss: 0.2999\n",
      "Epoch 123: saving model to ./models/still-clockwise-anticlockwise-move\\model.keras\n",
      "\u001b[1m141/141\u001b[0m \u001b[32m━━━━━━━━━━━━━━━━━━━━\u001b[0m\u001b[37m\u001b[0m \u001b[1m0s\u001b[0m 1ms/step - accuracy: 0.9113 - loss: 0.3014 - val_accuracy: 0.9490 - val_loss: 0.1751\n",
      "Epoch 124/1000\n",
      "\u001b[1m118/141\u001b[0m \u001b[32m━━━━━━━━━━━━━━━━\u001b[0m\u001b[37m━━━━\u001b[0m \u001b[1m0s\u001b[0m 863us/step - accuracy: 0.9091 - loss: 0.2979\n",
      "Epoch 124: saving model to ./models/still-clockwise-anticlockwise-move\\model.keras\n",
      "\u001b[1m141/141\u001b[0m \u001b[32m━━━━━━━━━━━━━━━━━━━━\u001b[0m\u001b[37m\u001b[0m \u001b[1m0s\u001b[0m 1ms/step - accuracy: 0.9091 - loss: 0.2987 - val_accuracy: 0.9465 - val_loss: 0.1781\n",
      "Epoch 125/1000\n",
      "\u001b[1m121/141\u001b[0m \u001b[32m━━━━━━━━━━━━━━━━━\u001b[0m\u001b[37m━━━\u001b[0m \u001b[1m0s\u001b[0m 844us/step - accuracy: 0.9174 - loss: 0.2824\n",
      "Epoch 125: saving model to ./models/still-clockwise-anticlockwise-move\\model.keras\n",
      "\u001b[1m141/141\u001b[0m \u001b[32m━━━━━━━━━━━━━━━━━━━━\u001b[0m\u001b[37m\u001b[0m \u001b[1m0s\u001b[0m 1ms/step - accuracy: 0.9168 - loss: 0.2841 - val_accuracy: 0.9480 - val_loss: 0.1762\n",
      "Epoch 126/1000\n",
      "\u001b[1m117/141\u001b[0m \u001b[32m━━━━━━━━━━━━━━━━\u001b[0m\u001b[37m━━━━\u001b[0m \u001b[1m0s\u001b[0m 873us/step - accuracy: 0.9167 - loss: 0.2783\n",
      "Epoch 126: saving model to ./models/still-clockwise-anticlockwise-move\\model.keras\n",
      "\u001b[1m141/141\u001b[0m \u001b[32m━━━━━━━━━━━━━━━━━━━━\u001b[0m\u001b[37m\u001b[0m \u001b[1m0s\u001b[0m 1ms/step - accuracy: 0.9162 - loss: 0.2803 - val_accuracy: 0.9495 - val_loss: 0.1763\n",
      "Epoch 127/1000\n",
      "\u001b[1m119/141\u001b[0m \u001b[32m━━━━━━━━━━━━━━━━\u001b[0m\u001b[37m━━━━\u001b[0m \u001b[1m0s\u001b[0m 864us/step - accuracy: 0.9108 - loss: 0.2995\n",
      "Epoch 127: saving model to ./models/still-clockwise-anticlockwise-move\\model.keras\n",
      "\u001b[1m141/141\u001b[0m \u001b[32m━━━━━━━━━━━━━━━━━━━━\u001b[0m\u001b[37m\u001b[0m \u001b[1m0s\u001b[0m 1ms/step - accuracy: 0.9113 - loss: 0.2995 - val_accuracy: 0.9470 - val_loss: 0.1765\n",
      "Epoch 128/1000\n",
      "\u001b[1m117/141\u001b[0m \u001b[32m━━━━━━━━━━━━━━━━\u001b[0m\u001b[37m━━━━\u001b[0m \u001b[1m0s\u001b[0m 873us/step - accuracy: 0.9146 - loss: 0.2914\n",
      "Epoch 128: saving model to ./models/still-clockwise-anticlockwise-move\\model.keras\n",
      "\u001b[1m141/141\u001b[0m \u001b[32m━━━━━━━━━━━━━━━━━━━━\u001b[0m\u001b[37m\u001b[0m \u001b[1m0s\u001b[0m 1ms/step - accuracy: 0.9141 - loss: 0.2928 - val_accuracy: 0.9450 - val_loss: 0.1789\n",
      "Epoch 129/1000\n",
      "\u001b[1m116/141\u001b[0m \u001b[32m━━━━━━━━━━━━━━━━\u001b[0m\u001b[37m━━━━\u001b[0m \u001b[1m0s\u001b[0m 870us/step - accuracy: 0.9126 - loss: 0.2963\n",
      "Epoch 129: saving model to ./models/still-clockwise-anticlockwise-move\\model.keras\n",
      "\u001b[1m141/141\u001b[0m \u001b[32m━━━━━━━━━━━━━━━━━━━━\u001b[0m\u001b[37m\u001b[0m \u001b[1m0s\u001b[0m 1ms/step - accuracy: 0.9125 - loss: 0.2966 - val_accuracy: 0.9485 - val_loss: 0.1733\n",
      "Epoch 130/1000\n",
      "\u001b[1m109/141\u001b[0m \u001b[32m━━━━━━━━━━━━━━━\u001b[0m\u001b[37m━━━━━\u001b[0m \u001b[1m0s\u001b[0m 936us/step - accuracy: 0.9104 - loss: 0.3088\n",
      "Epoch 130: saving model to ./models/still-clockwise-anticlockwise-move\\model.keras\n",
      "\u001b[1m141/141\u001b[0m \u001b[32m━━━━━━━━━━━━━━━━━━━━\u001b[0m\u001b[37m\u001b[0m \u001b[1m0s\u001b[0m 1ms/step - accuracy: 0.9107 - loss: 0.3091 - val_accuracy: 0.9475 - val_loss: 0.1750\n",
      "Epoch 131/1000\n",
      "\u001b[1m108/141\u001b[0m \u001b[32m━━━━━━━━━━━━━━━\u001b[0m\u001b[37m━━━━━\u001b[0m \u001b[1m0s\u001b[0m 939us/step - accuracy: 0.9109 - loss: 0.3082\n",
      "Epoch 131: saving model to ./models/still-clockwise-anticlockwise-move\\model.keras\n",
      "\u001b[1m141/141\u001b[0m \u001b[32m━━━━━━━━━━━━━━━━━━━━\u001b[0m\u001b[37m\u001b[0m \u001b[1m0s\u001b[0m 1ms/step - accuracy: 0.9109 - loss: 0.3076 - val_accuracy: 0.9470 - val_loss: 0.1810\n",
      "Epoch 132/1000\n",
      "\u001b[1m 92/141\u001b[0m \u001b[32m━━━━━━━━━━━━━\u001b[0m\u001b[37m━━━━━━━\u001b[0m \u001b[1m0s\u001b[0m 1ms/step - accuracy: 0.9101 - loss: 0.2848\n",
      "Epoch 132: saving model to ./models/still-clockwise-anticlockwise-move\\model.keras\n",
      "\u001b[1m141/141\u001b[0m \u001b[32m━━━━━━━━━━━━━━━━━━━━\u001b[0m\u001b[37m\u001b[0m \u001b[1m0s\u001b[0m 2ms/step - accuracy: 0.9111 - loss: 0.2854 - val_accuracy: 0.9485 - val_loss: 0.1727\n",
      "Epoch 133/1000\n",
      "\u001b[1m117/141\u001b[0m \u001b[32m━━━━━━━━━━━━━━━━\u001b[0m\u001b[37m━━━━\u001b[0m \u001b[1m0s\u001b[0m 871us/step - accuracy: 0.9125 - loss: 0.3048\n",
      "Epoch 133: saving model to ./models/still-clockwise-anticlockwise-move\\model.keras\n",
      "\u001b[1m141/141\u001b[0m \u001b[32m━━━━━━━━━━━━━━━━━━━━\u001b[0m\u001b[37m\u001b[0m \u001b[1m0s\u001b[0m 1ms/step - accuracy: 0.9124 - loss: 0.3040 - val_accuracy: 0.9475 - val_loss: 0.1763\n",
      "Epoch 134/1000\n",
      "\u001b[1m102/141\u001b[0m \u001b[32m━━━━━━━━━━━━━━\u001b[0m\u001b[37m━━━━━━\u001b[0m \u001b[1m0s\u001b[0m 1ms/step - accuracy: 0.9096 - loss: 0.2979\n",
      "Epoch 134: saving model to ./models/still-clockwise-anticlockwise-move\\model.keras\n",
      "\u001b[1m141/141\u001b[0m \u001b[32m━━━━━━━━━━━━━━━━━━━━\u001b[0m\u001b[37m\u001b[0m \u001b[1m0s\u001b[0m 1ms/step - accuracy: 0.9099 - loss: 0.2996 - val_accuracy: 0.9465 - val_loss: 0.1817\n",
      "Epoch 135/1000\n",
      "\u001b[1m115/141\u001b[0m \u001b[32m━━━━━━━━━━━━━━━━\u001b[0m\u001b[37m━━━━\u001b[0m \u001b[1m0s\u001b[0m 878us/step - accuracy: 0.9158 - loss: 0.2861\n",
      "Epoch 135: saving model to ./models/still-clockwise-anticlockwise-move\\model.keras\n",
      "\u001b[1m141/141\u001b[0m \u001b[32m━━━━━━━━━━━━━━━━━━━━\u001b[0m\u001b[37m\u001b[0m \u001b[1m0s\u001b[0m 1ms/step - accuracy: 0.9155 - loss: 0.2873 - val_accuracy: 0.9450 - val_loss: 0.1836\n",
      "Epoch 136/1000\n",
      "\u001b[1m110/141\u001b[0m \u001b[32m━━━━━━━━━━━━━━━\u001b[0m\u001b[37m━━━━━\u001b[0m \u001b[1m0s\u001b[0m 936us/step - accuracy: 0.9146 - loss: 0.2878\n",
      "Epoch 136: saving model to ./models/still-clockwise-anticlockwise-move\\model.keras\n",
      "\u001b[1m141/141\u001b[0m \u001b[32m━━━━━━━━━━━━━━━━━━━━\u001b[0m\u001b[37m\u001b[0m \u001b[1m0s\u001b[0m 1ms/step - accuracy: 0.9144 - loss: 0.2879 - val_accuracy: 0.9450 - val_loss: 0.1761\n",
      "Epoch 137/1000\n",
      "\u001b[1m121/141\u001b[0m \u001b[32m━━━━━━━━━━━━━━━━━\u001b[0m\u001b[37m━━━\u001b[0m \u001b[1m0s\u001b[0m 839us/step - accuracy: 0.9054 - loss: 0.3075\n",
      "Epoch 137: saving model to ./models/still-clockwise-anticlockwise-move\\model.keras\n",
      "\u001b[1m141/141\u001b[0m \u001b[32m━━━━━━━━━━━━━━━━━━━━\u001b[0m\u001b[37m\u001b[0m \u001b[1m0s\u001b[0m 1ms/step - accuracy: 0.9059 - loss: 0.3069 - val_accuracy: 0.9455 - val_loss: 0.1796\n",
      "Epoch 138/1000\n",
      "\u001b[1m100/141\u001b[0m \u001b[32m━━━━━━━━━━━━━━\u001b[0m\u001b[37m━━━━━━\u001b[0m \u001b[1m0s\u001b[0m 1ms/step - accuracy: 0.9096 - loss: 0.2971\n",
      "Epoch 138: saving model to ./models/still-clockwise-anticlockwise-move\\model.keras\n",
      "\u001b[1m141/141\u001b[0m \u001b[32m━━━━━━━━━━━━━━━━━━━━\u001b[0m\u001b[37m\u001b[0m \u001b[1m0s\u001b[0m 1ms/step - accuracy: 0.9098 - loss: 0.2987 - val_accuracy: 0.9450 - val_loss: 0.1811\n",
      "Epoch 139/1000\n",
      "\u001b[1m106/141\u001b[0m \u001b[32m━━━━━━━━━━━━━━━\u001b[0m\u001b[37m━━━━━\u001b[0m \u001b[1m0s\u001b[0m 960us/step - accuracy: 0.9116 - loss: 0.3118\n",
      "Epoch 139: saving model to ./models/still-clockwise-anticlockwise-move\\model.keras\n",
      "\u001b[1m141/141\u001b[0m \u001b[32m━━━━━━━━━━━━━━━━━━━━\u001b[0m\u001b[37m\u001b[0m \u001b[1m0s\u001b[0m 1ms/step - accuracy: 0.9122 - loss: 0.3086 - val_accuracy: 0.9455 - val_loss: 0.1789\n",
      "Epoch 140/1000\n",
      "\u001b[1m120/141\u001b[0m \u001b[32m━━━━━━━━━━━━━━━━━\u001b[0m\u001b[37m━━━\u001b[0m \u001b[1m0s\u001b[0m 857us/step - accuracy: 0.9143 - loss: 0.2934\n",
      "Epoch 140: saving model to ./models/still-clockwise-anticlockwise-move\\model.keras\n",
      "\u001b[1m141/141\u001b[0m \u001b[32m━━━━━━━━━━━━━━━━━━━━\u001b[0m\u001b[37m\u001b[0m \u001b[1m0s\u001b[0m 1ms/step - accuracy: 0.9141 - loss: 0.2946 - val_accuracy: 0.9455 - val_loss: 0.1750\n",
      "Epoch 141/1000\n",
      "\u001b[1m116/141\u001b[0m \u001b[32m━━━━━━━━━━━━━━━━\u001b[0m\u001b[37m━━━━\u001b[0m \u001b[1m0s\u001b[0m 887us/step - accuracy: 0.9100 - loss: 0.3112\n",
      "Epoch 141: saving model to ./models/still-clockwise-anticlockwise-move\\model.keras\n",
      "\u001b[1m141/141\u001b[0m \u001b[32m━━━━━━━━━━━━━━━━━━━━\u001b[0m\u001b[37m\u001b[0m \u001b[1m0s\u001b[0m 1ms/step - accuracy: 0.9105 - loss: 0.3092 - val_accuracy: 0.9465 - val_loss: 0.1765\n",
      "Epoch 142/1000\n",
      "\u001b[1m117/141\u001b[0m \u001b[32m━━━━━━━━━━━━━━━━\u001b[0m\u001b[37m━━━━\u001b[0m \u001b[1m0s\u001b[0m 871us/step - accuracy: 0.9105 - loss: 0.3065\n",
      "Epoch 142: saving model to ./models/still-clockwise-anticlockwise-move\\model.keras\n",
      "\u001b[1m141/141\u001b[0m \u001b[32m━━━━━━━━━━━━━━━━━━━━\u001b[0m\u001b[37m\u001b[0m \u001b[1m0s\u001b[0m 1ms/step - accuracy: 0.9110 - loss: 0.3043 - val_accuracy: 0.9435 - val_loss: 0.1831\n",
      "Epoch 143/1000\n",
      "\u001b[1m116/141\u001b[0m \u001b[32m━━━━━━━━━━━━━━━━\u001b[0m\u001b[37m━━━━\u001b[0m \u001b[1m0s\u001b[0m 882us/step - accuracy: 0.9101 - loss: 0.3077\n",
      "Epoch 143: saving model to ./models/still-clockwise-anticlockwise-move\\model.keras\n",
      "\u001b[1m141/141\u001b[0m \u001b[32m━━━━━━━━━━━━━━━━━━━━\u001b[0m\u001b[37m\u001b[0m \u001b[1m0s\u001b[0m 1ms/step - accuracy: 0.9102 - loss: 0.3070 - val_accuracy: 0.9450 - val_loss: 0.1756\n",
      "Epoch 144/1000\n",
      "\u001b[1m114/141\u001b[0m \u001b[32m━━━━━━━━━━━━━━━━\u001b[0m\u001b[37m━━━━\u001b[0m \u001b[1m0s\u001b[0m 886us/step - accuracy: 0.9150 - loss: 0.2903\n",
      "Epoch 144: saving model to ./models/still-clockwise-anticlockwise-move\\model.keras\n",
      "\u001b[1m141/141\u001b[0m \u001b[32m━━━━━━━━━━━━━━━━━━━━\u001b[0m\u001b[37m\u001b[0m \u001b[1m0s\u001b[0m 1ms/step - accuracy: 0.9149 - loss: 0.2921 - val_accuracy: 0.9440 - val_loss: 0.1814\n",
      "Epoch 145/1000\n",
      "\u001b[1m114/141\u001b[0m \u001b[32m━━━━━━━━━━━━━━━━\u001b[0m\u001b[37m━━━━\u001b[0m \u001b[1m0s\u001b[0m 2ms/step - accuracy: 0.9099 - loss: 0.3014\n",
      "Epoch 145: saving model to ./models/still-clockwise-anticlockwise-move\\model.keras\n",
      "\u001b[1m141/141\u001b[0m \u001b[32m━━━━━━━━━━━━━━━━━━━━\u001b[0m\u001b[37m\u001b[0m \u001b[1m0s\u001b[0m 2ms/step - accuracy: 0.9106 - loss: 0.3006 - val_accuracy: 0.9475 - val_loss: 0.1735\n",
      "Epoch 146/1000\n",
      "\u001b[1m108/141\u001b[0m \u001b[32m━━━━━━━━━━━━━━━\u001b[0m\u001b[37m━━━━━\u001b[0m \u001b[1m0s\u001b[0m 953us/step - accuracy: 0.9142 - loss: 0.2921\n",
      "Epoch 146: saving model to ./models/still-clockwise-anticlockwise-move\\model.keras\n",
      "\u001b[1m141/141\u001b[0m \u001b[32m━━━━━━━━━━━━━━━━━━━━\u001b[0m\u001b[37m\u001b[0m \u001b[1m0s\u001b[0m 1ms/step - accuracy: 0.9143 - loss: 0.2917 - val_accuracy: 0.9430 - val_loss: 0.1848\n",
      "Epoch 147/1000\n",
      "\u001b[1m120/141\u001b[0m \u001b[32m━━━━━━━━━━━━━━━━━\u001b[0m\u001b[37m━━━\u001b[0m \u001b[1m0s\u001b[0m 861us/step - accuracy: 0.9071 - loss: 0.3362\n",
      "Epoch 147: saving model to ./models/still-clockwise-anticlockwise-move\\model.keras\n",
      "\u001b[1m141/141\u001b[0m \u001b[32m━━━━━━━━━━━━━━━━━━━━\u001b[0m\u001b[37m\u001b[0m \u001b[1m0s\u001b[0m 1ms/step - accuracy: 0.9077 - loss: 0.3323 - val_accuracy: 0.9440 - val_loss: 0.1783\n",
      "Epoch 148/1000\n",
      "\u001b[1m112/141\u001b[0m \u001b[32m━━━━━━━━━━━━━━━\u001b[0m\u001b[37m━━━━━\u001b[0m \u001b[1m0s\u001b[0m 916us/step - accuracy: 0.9099 - loss: 0.3003\n",
      "Epoch 148: saving model to ./models/still-clockwise-anticlockwise-move\\model.keras\n",
      "\u001b[1m141/141\u001b[0m \u001b[32m━━━━━━━━━━━━━━━━━━━━\u001b[0m\u001b[37m\u001b[0m \u001b[1m0s\u001b[0m 1ms/step - accuracy: 0.9102 - loss: 0.2988 - val_accuracy: 0.9460 - val_loss: 0.1731\n",
      "Epoch 149/1000\n",
      "\u001b[1m113/141\u001b[0m \u001b[32m━━━━━━━━━━━━━━━━\u001b[0m\u001b[37m━━━━\u001b[0m \u001b[1m0s\u001b[0m 906us/step - accuracy: 0.9099 - loss: 0.3042\n",
      "Epoch 149: saving model to ./models/still-clockwise-anticlockwise-move\\model.keras\n",
      "\u001b[1m141/141\u001b[0m \u001b[32m━━━━━━━━━━━━━━━━━━━━\u001b[0m\u001b[37m\u001b[0m \u001b[1m0s\u001b[0m 1ms/step - accuracy: 0.9103 - loss: 0.3009 - val_accuracy: 0.9480 - val_loss: 0.1741\n",
      "Epoch 150/1000\n",
      "\u001b[1m112/141\u001b[0m \u001b[32m━━━━━━━━━━━━━━━\u001b[0m\u001b[37m━━━━━\u001b[0m \u001b[1m0s\u001b[0m 911us/step - accuracy: 0.9165 - loss: 0.2868\n",
      "Epoch 150: saving model to ./models/still-clockwise-anticlockwise-move\\model.keras\n",
      "\u001b[1m141/141\u001b[0m \u001b[32m━━━━━━━━━━━━━━━━━━━━\u001b[0m\u001b[37m\u001b[0m \u001b[1m0s\u001b[0m 1ms/step - accuracy: 0.9159 - loss: 0.2874 - val_accuracy: 0.9435 - val_loss: 0.1819\n",
      "Epoch 151/1000\n",
      "\u001b[1m115/141\u001b[0m \u001b[32m━━━━━━━━━━━━━━━━\u001b[0m\u001b[37m━━━━\u001b[0m \u001b[1m0s\u001b[0m 888us/step - accuracy: 0.9130 - loss: 0.2982\n",
      "Epoch 151: saving model to ./models/still-clockwise-anticlockwise-move\\model.keras\n",
      "\u001b[1m141/141\u001b[0m \u001b[32m━━━━━━━━━━━━━━━━━━━━\u001b[0m\u001b[37m\u001b[0m \u001b[1m0s\u001b[0m 1ms/step - accuracy: 0.9130 - loss: 0.2971 - val_accuracy: 0.9435 - val_loss: 0.1801\n",
      "Epoch 152/1000\n",
      "\u001b[1m112/141\u001b[0m \u001b[32m━━━━━━━━━━━━━━━\u001b[0m\u001b[37m━━━━━\u001b[0m \u001b[1m0s\u001b[0m 908us/step - accuracy: 0.9080 - loss: 0.3054\n",
      "Epoch 152: saving model to ./models/still-clockwise-anticlockwise-move\\model.keras\n",
      "\u001b[1m141/141\u001b[0m \u001b[32m━━━━━━━━━━━━━━━━━━━━\u001b[0m\u001b[37m\u001b[0m \u001b[1m0s\u001b[0m 2ms/step - accuracy: 0.9084 - loss: 0.3058 - val_accuracy: 0.9445 - val_loss: 0.1821\n",
      "Epoch 153/1000\n",
      "\u001b[1m135/141\u001b[0m \u001b[32m━━━━━━━━━━━━━━━━━━━\u001b[0m\u001b[37m━\u001b[0m \u001b[1m0s\u001b[0m 1ms/step - accuracy: 0.9133 - loss: 0.2980\n",
      "Epoch 153: saving model to ./models/still-clockwise-anticlockwise-move\\model.keras\n",
      "\u001b[1m141/141\u001b[0m \u001b[32m━━━━━━━━━━━━━━━━━━━━\u001b[0m\u001b[37m\u001b[0m \u001b[1m0s\u001b[0m 2ms/step - accuracy: 0.9132 - loss: 0.2983 - val_accuracy: 0.9455 - val_loss: 0.1771\n",
      "Epoch 154/1000\n",
      "\u001b[1m108/141\u001b[0m \u001b[32m━━━━━━━━━━━━━━━\u001b[0m\u001b[37m━━━━━\u001b[0m \u001b[1m0s\u001b[0m 946us/step - accuracy: 0.9108 - loss: 0.3102\n",
      "Epoch 154: saving model to ./models/still-clockwise-anticlockwise-move\\model.keras\n",
      "\u001b[1m141/141\u001b[0m \u001b[32m━━━━━━━━━━━━━━━━━━━━\u001b[0m\u001b[37m\u001b[0m \u001b[1m0s\u001b[0m 1ms/step - accuracy: 0.9117 - loss: 0.3056 - val_accuracy: 0.9435 - val_loss: 0.1804\n",
      "Epoch 155/1000\n",
      "\u001b[1m100/141\u001b[0m \u001b[32m━━━━━━━━━━━━━━\u001b[0m\u001b[37m━━━━━━\u001b[0m \u001b[1m0s\u001b[0m 1ms/step - accuracy: 0.9142 - loss: 0.2882  \n",
      "Epoch 155: saving model to ./models/still-clockwise-anticlockwise-move\\model.keras\n",
      "\u001b[1m141/141\u001b[0m \u001b[32m━━━━━━━━━━━━━━━━━━━━\u001b[0m\u001b[37m\u001b[0m \u001b[1m0s\u001b[0m 1ms/step - accuracy: 0.9140 - loss: 0.2889 - val_accuracy: 0.9435 - val_loss: 0.1820\n",
      "Epoch 156/1000\n",
      "\u001b[1m119/141\u001b[0m \u001b[32m━━━━━━━━━━━━━━━━\u001b[0m\u001b[37m━━━━\u001b[0m \u001b[1m0s\u001b[0m 856us/step - accuracy: 0.9142 - loss: 0.3042\n",
      "Epoch 156: saving model to ./models/still-clockwise-anticlockwise-move\\model.keras\n",
      "\u001b[1m141/141\u001b[0m \u001b[32m━━━━━━━━━━━━━━━━━━━━\u001b[0m\u001b[37m\u001b[0m \u001b[1m0s\u001b[0m 1ms/step - accuracy: 0.9141 - loss: 0.3041 - val_accuracy: 0.9430 - val_loss: 0.1824\n",
      "Epoch 157/1000\n",
      "\u001b[1m114/141\u001b[0m \u001b[32m━━━━━━━━━━━━━━━━\u001b[0m\u001b[37m━━━━\u001b[0m \u001b[1m0s\u001b[0m 885us/step - accuracy: 0.9145 - loss: 0.2856\n",
      "Epoch 157: saving model to ./models/still-clockwise-anticlockwise-move\\model.keras\n",
      "\u001b[1m141/141\u001b[0m \u001b[32m━━━━━━━━━━━━━━━━━━━━\u001b[0m\u001b[37m\u001b[0m \u001b[1m0s\u001b[0m 1ms/step - accuracy: 0.9144 - loss: 0.2872 - val_accuracy: 0.9450 - val_loss: 0.1793\n",
      "Epoch 158/1000\n",
      "\u001b[1m116/141\u001b[0m \u001b[32m━━━━━━━━━━━━━━━━\u001b[0m\u001b[37m━━━━\u001b[0m \u001b[1m0s\u001b[0m 884us/step - accuracy: 0.9120 - loss: 0.2854\n",
      "Epoch 158: saving model to ./models/still-clockwise-anticlockwise-move\\model.keras\n",
      "\u001b[1m141/141\u001b[0m \u001b[32m━━━━━━━━━━━━━━━━━━━━\u001b[0m\u001b[37m\u001b[0m \u001b[1m0s\u001b[0m 1ms/step - accuracy: 0.9122 - loss: 0.2859 - val_accuracy: 0.9460 - val_loss: 0.1776\n",
      "Epoch 159/1000\n",
      "\u001b[1m131/141\u001b[0m \u001b[32m━━━━━━━━━━━━━━━━━━\u001b[0m\u001b[37m━━\u001b[0m \u001b[1m0s\u001b[0m 1ms/step - accuracy: 0.9149 - loss: 0.2947  \n",
      "Epoch 159: saving model to ./models/still-clockwise-anticlockwise-move\\model.keras\n",
      "\u001b[1m141/141\u001b[0m \u001b[32m━━━━━━━━━━━━━━━━━━━━\u001b[0m\u001b[37m\u001b[0m \u001b[1m0s\u001b[0m 2ms/step - accuracy: 0.9147 - loss: 0.2947 - val_accuracy: 0.9435 - val_loss: 0.1847\n",
      "Epoch 160/1000\n",
      "\u001b[1m114/141\u001b[0m \u001b[32m━━━━━━━━━━━━━━━━\u001b[0m\u001b[37m━━━━\u001b[0m \u001b[1m0s\u001b[0m 898us/step - accuracy: 0.9148 - loss: 0.2874\n",
      "Epoch 160: saving model to ./models/still-clockwise-anticlockwise-move\\model.keras\n",
      "\u001b[1m141/141\u001b[0m \u001b[32m━━━━━━━━━━━━━━━━━━━━\u001b[0m\u001b[37m\u001b[0m \u001b[1m0s\u001b[0m 1ms/step - accuracy: 0.9150 - loss: 0.2874 - val_accuracy: 0.9440 - val_loss: 0.1828\n",
      "Epoch 161/1000\n",
      "\u001b[1m118/141\u001b[0m \u001b[32m━━━━━━━━━━━━━━━━\u001b[0m\u001b[37m━━━━\u001b[0m \u001b[1m0s\u001b[0m 867us/step - accuracy: 0.9108 - loss: 0.2985\n",
      "Epoch 161: saving model to ./models/still-clockwise-anticlockwise-move\\model.keras\n",
      "\u001b[1m141/141\u001b[0m \u001b[32m━━━━━━━━━━━━━━━━━━━━\u001b[0m\u001b[37m\u001b[0m \u001b[1m0s\u001b[0m 1ms/step - accuracy: 0.9113 - loss: 0.2964 - val_accuracy: 0.9460 - val_loss: 0.1763\n",
      "Epoch 162/1000\n",
      "\u001b[1m131/141\u001b[0m \u001b[32m━━━━━━━━━━━━━━━━━━\u001b[0m\u001b[37m━━\u001b[0m \u001b[1m0s\u001b[0m 771us/step - accuracy: 0.9098 - loss: 0.3066\n",
      "Epoch 162: saving model to ./models/still-clockwise-anticlockwise-move\\model.keras\n",
      "\u001b[1m141/141\u001b[0m \u001b[32m━━━━━━━━━━━━━━━━━━━━\u001b[0m\u001b[37m\u001b[0m \u001b[1m0s\u001b[0m 1ms/step - accuracy: 0.9100 - loss: 0.3059 - val_accuracy: 0.9455 - val_loss: 0.1821\n",
      "Epoch 163/1000\n",
      "\u001b[1m131/141\u001b[0m \u001b[32m━━━━━━━━━━━━━━━━━━\u001b[0m\u001b[37m━━\u001b[0m \u001b[1m0s\u001b[0m 778us/step - accuracy: 0.9121 - loss: 0.2863\n",
      "Epoch 163: saving model to ./models/still-clockwise-anticlockwise-move\\model.keras\n",
      "\u001b[1m141/141\u001b[0m \u001b[32m━━━━━━━━━━━━━━━━━━━━\u001b[0m\u001b[37m\u001b[0m \u001b[1m0s\u001b[0m 1ms/step - accuracy: 0.9122 - loss: 0.2863 - val_accuracy: 0.9465 - val_loss: 0.1732\n",
      "Epoch 164/1000\n",
      "\u001b[1m139/141\u001b[0m \u001b[32m━━━━━━━━━━━━━━━━━━━\u001b[0m\u001b[37m━\u001b[0m \u001b[1m0s\u001b[0m 1ms/step - accuracy: 0.9126 - loss: 0.2941\n",
      "Epoch 164: saving model to ./models/still-clockwise-anticlockwise-move\\model.keras\n",
      "\u001b[1m141/141\u001b[0m \u001b[32m━━━━━━━━━━━━━━━━━━━━\u001b[0m\u001b[37m\u001b[0m \u001b[1m0s\u001b[0m 2ms/step - accuracy: 0.9126 - loss: 0.2942 - val_accuracy: 0.9455 - val_loss: 0.1805\n",
      "Epoch 165/1000\n",
      "\u001b[1m120/141\u001b[0m \u001b[32m━━━━━━━━━━━━━━━━━\u001b[0m\u001b[37m━━━\u001b[0m \u001b[1m0s\u001b[0m 1ms/step - accuracy: 0.9114 - loss: 0.2990\n",
      "Epoch 165: saving model to ./models/still-clockwise-anticlockwise-move\\model.keras\n",
      "\u001b[1m141/141\u001b[0m \u001b[32m━━━━━━━━━━━━━━━━━━━━\u001b[0m\u001b[37m\u001b[0m \u001b[1m0s\u001b[0m 2ms/step - accuracy: 0.9110 - loss: 0.2990 - val_accuracy: 0.9445 - val_loss: 0.1819\n",
      "Epoch 166/1000\n",
      "\u001b[1m130/141\u001b[0m \u001b[32m━━━━━━━━━━━━━━━━━━\u001b[0m\u001b[37m━━\u001b[0m \u001b[1m0s\u001b[0m 1ms/step - accuracy: 0.9144 - loss: 0.2840\n",
      "Epoch 166: saving model to ./models/still-clockwise-anticlockwise-move\\model.keras\n",
      "\u001b[1m141/141\u001b[0m \u001b[32m━━━━━━━━━━━━━━━━━━━━\u001b[0m\u001b[37m\u001b[0m \u001b[1m0s\u001b[0m 2ms/step - accuracy: 0.9144 - loss: 0.2844 - val_accuracy: 0.9445 - val_loss: 0.1792\n",
      "Epoch 167/1000\n",
      "\u001b[1m115/141\u001b[0m \u001b[32m━━━━━━━━━━━━━━━━\u001b[0m\u001b[37m━━━━\u001b[0m \u001b[1m0s\u001b[0m 1ms/step - accuracy: 0.9102 - loss: 0.3048\n",
      "Epoch 167: saving model to ./models/still-clockwise-anticlockwise-move\\model.keras\n",
      "\u001b[1m141/141\u001b[0m \u001b[32m━━━━━━━━━━━━━━━━━━━━\u001b[0m\u001b[37m\u001b[0m \u001b[1m0s\u001b[0m 2ms/step - accuracy: 0.9104 - loss: 0.3035 - val_accuracy: 0.9445 - val_loss: 0.1816\n",
      "Epoch 168/1000\n",
      "\u001b[1m110/141\u001b[0m \u001b[32m━━━━━━━━━━━━━━━\u001b[0m\u001b[37m━━━━━\u001b[0m \u001b[1m0s\u001b[0m 932us/step - accuracy: 0.9173 - loss: 0.2847\n",
      "Epoch 168: saving model to ./models/still-clockwise-anticlockwise-move\\model.keras\n",
      "\u001b[1m141/141\u001b[0m \u001b[32m━━━━━━━━━━━━━━━━━━━━\u001b[0m\u001b[37m\u001b[0m \u001b[1m0s\u001b[0m 1ms/step - accuracy: 0.9171 - loss: 0.2841 - val_accuracy: 0.9460 - val_loss: 0.1760\n",
      "Epoch 169/1000\n",
      "\u001b[1m114/141\u001b[0m \u001b[32m━━━━━━━━━━━━━━━━\u001b[0m\u001b[37m━━━━\u001b[0m \u001b[1m0s\u001b[0m 894us/step - accuracy: 0.9133 - loss: 0.2946\n",
      "Epoch 169: saving model to ./models/still-clockwise-anticlockwise-move\\model.keras\n",
      "\u001b[1m141/141\u001b[0m \u001b[32m━━━━━━━━━━━━━━━━━━━━\u001b[0m\u001b[37m\u001b[0m \u001b[1m0s\u001b[0m 1ms/step - accuracy: 0.9132 - loss: 0.2944 - val_accuracy: 0.9460 - val_loss: 0.1801\n",
      "Epoch 170/1000\n",
      "\u001b[1m118/141\u001b[0m \u001b[32m━━━━━━━━━━━━━━━━\u001b[0m\u001b[37m━━━━\u001b[0m \u001b[1m0s\u001b[0m 895us/step - accuracy: 0.9170 - loss: 0.2886\n",
      "Epoch 170: saving model to ./models/still-clockwise-anticlockwise-move\\model.keras\n",
      "\u001b[1m141/141\u001b[0m \u001b[32m━━━━━━━━━━━━━━━━━━━━\u001b[0m\u001b[37m\u001b[0m \u001b[1m0s\u001b[0m 1ms/step - accuracy: 0.9167 - loss: 0.2902 - val_accuracy: 0.9460 - val_loss: 0.1770\n",
      "Epoch 171/1000\n",
      "\u001b[1m128/141\u001b[0m \u001b[32m━━━━━━━━━━━━━━━━━━\u001b[0m\u001b[37m━━\u001b[0m \u001b[1m0s\u001b[0m 795us/step - accuracy: 0.9138 - loss: 0.2833\n",
      "Epoch 171: saving model to ./models/still-clockwise-anticlockwise-move\\model.keras\n",
      "\u001b[1m141/141\u001b[0m \u001b[32m━━━━━━━━━━━━━━━━━━━━\u001b[0m\u001b[37m\u001b[0m \u001b[1m0s\u001b[0m 1ms/step - accuracy: 0.9137 - loss: 0.2847 - val_accuracy: 0.9455 - val_loss: 0.1794\n",
      "Epoch 172/1000\n",
      "\u001b[1m118/141\u001b[0m \u001b[32m━━━━━━━━━━━━━━━━\u001b[0m\u001b[37m━━━━\u001b[0m \u001b[1m0s\u001b[0m 865us/step - accuracy: 0.9136 - loss: 0.2888\n",
      "Epoch 172: saving model to ./models/still-clockwise-anticlockwise-move\\model.keras\n",
      "\u001b[1m141/141\u001b[0m \u001b[32m━━━━━━━━━━━━━━━━━━━━\u001b[0m\u001b[37m\u001b[0m \u001b[1m0s\u001b[0m 1ms/step - accuracy: 0.9134 - loss: 0.2892 - val_accuracy: 0.9445 - val_loss: 0.1779\n",
      "Epoch 173/1000\n",
      "\u001b[1m 96/141\u001b[0m \u001b[32m━━━━━━━━━━━━━\u001b[0m\u001b[37m━━━━━━━\u001b[0m \u001b[1m0s\u001b[0m 1ms/step - accuracy: 0.9138 - loss: 0.2837\n",
      "Epoch 173: saving model to ./models/still-clockwise-anticlockwise-move\\model.keras\n",
      "\u001b[1m141/141\u001b[0m \u001b[32m━━━━━━━━━━━━━━━━━━━━\u001b[0m\u001b[37m\u001b[0m \u001b[1m0s\u001b[0m 1ms/step - accuracy: 0.9144 - loss: 0.2849 - val_accuracy: 0.9450 - val_loss: 0.1832\n",
      "Epoch 174/1000\n",
      "\u001b[1m118/141\u001b[0m \u001b[32m━━━━━━━━━━━━━━━━\u001b[0m\u001b[37m━━━━\u001b[0m \u001b[1m0s\u001b[0m 856us/step - accuracy: 0.9108 - loss: 0.2919\n",
      "Epoch 174: saving model to ./models/still-clockwise-anticlockwise-move\\model.keras\n",
      "\u001b[1m141/141\u001b[0m \u001b[32m━━━━━━━━━━━━━━━━━━━━\u001b[0m\u001b[37m\u001b[0m \u001b[1m0s\u001b[0m 1ms/step - accuracy: 0.9109 - loss: 0.2924 - val_accuracy: 0.9450 - val_loss: 0.1767\n",
      "Epoch 175/1000\n",
      "\u001b[1m113/141\u001b[0m \u001b[32m━━━━━━━━━━━━━━━━\u001b[0m\u001b[37m━━━━\u001b[0m \u001b[1m0s\u001b[0m 897us/step - accuracy: 0.9150 - loss: 0.2805\n",
      "Epoch 175: saving model to ./models/still-clockwise-anticlockwise-move\\model.keras\n",
      "\u001b[1m141/141\u001b[0m \u001b[32m━━━━━━━━━━━━━━━━━━━━\u001b[0m\u001b[37m\u001b[0m \u001b[1m0s\u001b[0m 1ms/step - accuracy: 0.9149 - loss: 0.2813 - val_accuracy: 0.9445 - val_loss: 0.1811\n",
      "Epoch 176/1000\n",
      "\u001b[1m123/141\u001b[0m \u001b[32m━━━━━━━━━━━━━━━━━\u001b[0m\u001b[37m━━━\u001b[0m \u001b[1m0s\u001b[0m 831us/step - accuracy: 0.9138 - loss: 0.2843\n",
      "Epoch 176: saving model to ./models/still-clockwise-anticlockwise-move\\model.keras\n",
      "\u001b[1m141/141\u001b[0m \u001b[32m━━━━━━━━━━━━━━━━━━━━\u001b[0m\u001b[37m\u001b[0m \u001b[1m0s\u001b[0m 1ms/step - accuracy: 0.9137 - loss: 0.2843 - val_accuracy: 0.9460 - val_loss: 0.1815\n",
      "Epoch 176: early stopping\n"
     ]
    }
   ],
   "source": [
    "history = model.fit(\n",
    "    x_train,\n",
    "    y_train,\n",
    "    epochs=1000,\n",
    "    batch_size=128,\n",
    "    validation_data=(x_test, y_test),\n",
    "    callbacks=[CPCallback, ESCallback],\n",
    ")"
   ]
  },
  {
   "cell_type": "code",
   "execution_count": 12,
   "metadata": {},
   "outputs": [],
   "source": [
    "with open(os.path.join(dirpath, \"labels.txt\"), \"w\") as file:\n",
    "    file.write(\"\\n\".join(labels))"
   ]
  },
  {
   "cell_type": "markdown",
   "metadata": {},
   "source": [
    "# **7. Plotting Loss And Accuracy**"
   ]
  },
  {
   "cell_type": "code",
   "execution_count": 13,
   "metadata": {},
   "outputs": [
    {
     "data": {
      "image/png": "[encoded data removed]",
      "text/plain": [
       "<Figure size 640x480 with 1 Axes>"
      ]
     },
     "metadata": {},
     "output_type": "display_data"
    }
   ],
   "source": [
    "pyplot.title(\"Model Accuracy\")\n",
    "\n",
    "pyplot.plot(history.history[\"accuracy\"])\n",
    "pyplot.plot(history.history[\"val_accuracy\"])\n",
    "\n",
    "pyplot.legend([\"accuracy\", \"validation\"])\n",
    "\n",
    "pyplot.xlabel(\"epochs\")\n",
    "pyplot.ylabel(\"accuracy\")\n",
    "\n",
    "pyplot.savefig(os.path.join(dirpath, \"accuracy.png\"), bbox_inches=\"tight\")\n",
    "pyplot.show()"
   ]
  },
  {
   "cell_type": "code",
   "execution_count": 14,
   "metadata": {},
   "outputs": [
    {
     "data": {
      "image/png": "[encoded data removed]",
      "text/plain": [
       "<Figure size 640x480 with 1 Axes>"
      ]
     },
     "metadata": {},
     "output_type": "display_data"
    }
   ],
   "source": [
    "pyplot.title(\"Model Loss\")\n",
    "\n",
    "pyplot.plot(history.history[\"loss\"])\n",
    "pyplot.plot(history.history[\"val_loss\"])\n",
    "\n",
    "pyplot.legend([\"accuracy\", \"validation\"])\n",
    "\n",
    "pyplot.xlabel(\"epochs\")\n",
    "pyplot.ylabel(\"loss\")\n",
    "\n",
    "pyplot.savefig(os.path.join(dirpath, \"loss.png\"), bbox_inches=\"tight\")\n",
    "pyplot.show()"
   ]
  },
  {
   "cell_type": "markdown",
   "metadata": {},
   "source": [
    "# **8. Evaluation**"
   ]
  },
  {
   "cell_type": "code",
   "execution_count": 15,
   "metadata": {},
   "outputs": [
    {
     "name": "stdout",
     "output_type": "stream",
     "text": [
      "\u001b[1m16/16\u001b[0m \u001b[32m━━━━━━━━━━━━━━━━━━━━\u001b[0m\u001b[37m\u001b[0m \u001b[1m0s\u001b[0m 1ms/step - accuracy: 0.9459 - loss: 0.1757 \n"
     ]
    }
   ],
   "source": [
    "loss, accuracy = model.evaluate(x_test, y_test, batch_size=128)"
   ]
  },
  {
   "cell_type": "code",
   "execution_count": 16,
   "metadata": {},
   "outputs": [
    {
     "data": {
      "image/png": "[encoded data removed]",
      "text/plain": [
       "<Figure size 640x480 with 2 Axes>"
      ]
     },
     "metadata": {},
     "output_type": "display_data"
    }
   ],
   "source": [
    "y_pred = numpy.argmax(model.predict(x_test, verbose=0), axis=1)\n",
    "\n",
    "matrix = pandas.DataFrame(\n",
    "    confusion_matrix(y_test, y_pred), index=labels, columns=labels\n",
    ")\n",
    "\n",
    "seaborn.heatmap(matrix, annot=True, fmt=\"g\", square=False)\n",
    "\n",
    "pyplot.title(\"Confusion Matrix\")\n",
    "pyplot.ylabel(\"Predicted Values\")\n",
    "pyplot.xlabel(\"Actual Values\")\n",
    "\n",
    "pyplot.savefig(os.path.join(dirpath, \"confusion matrix.png\"), bbox_inches=\"tight\")\n",
    "pyplot.show()"
   ]
  },
  {
   "cell_type": "code",
   "execution_count": 17,
   "metadata": {},
   "outputs": [
    {
     "name": "stdout",
     "output_type": "stream",
     "text": [
      "Classification Report: \n",
      "\n",
      "               precision    recall  f1-score   support\n",
      "\n",
      "        still       1.00      0.97      0.98       500\n",
      "    clockwise       0.95      0.99      0.97       523\n",
      "anticlockwise       0.87      1.00      0.93       478\n",
      "         move       0.99      0.84      0.90       499\n",
      "\n",
      "     accuracy                           0.95      2000\n",
      "    macro avg       0.95      0.95      0.95      2000\n",
      " weighted avg       0.95      0.95      0.95      2000\n",
      "\n"
     ]
    }
   ],
   "source": [
    "print(\"Classification Report: \\n\")\n",
    "print(classification_report(y_test, y_pred, target_names=labels))"
   ]
  },
  {
   "cell_type": "markdown",
   "metadata": {},
   "source": [
    "# **9. Converting To TFLITE**"
   ]
  },
  {
   "cell_type": "code",
   "execution_count": 18,
   "metadata": {},
   "outputs": [
    {
     "name": "stdout",
     "output_type": "stream",
     "text": [
      "INFO:tensorflow:Assets written to: C:\\Users\\udham\\AppData\\Local\\Temp\\tmp96ri5w5b\\assets\n"
     ]
    },
    {
     "name": "stderr",
     "output_type": "stream",
     "text": [
      "INFO:tensorflow:Assets written to: C:\\Users\\udham\\AppData\\Local\\Temp\\tmp96ri5w5b\\assets\n"
     ]
    },
    {
     "name": "stdout",
     "output_type": "stream",
     "text": [
      "Saved artifact at 'C:\\Users\\udham\\AppData\\Local\\Temp\\tmp96ri5w5b'. The following endpoints are available:\n",
      "\n",
      "* Endpoint 'serve'\n",
      "  args_0 (POSITIONAL_ONLY): TensorSpec(shape=(None, 32), dtype=tf.float32, name='keras_tensor')\n",
      "Output Type:\n",
      "  TensorSpec(shape=(None, 4), dtype=tf.float32, name=None)\n",
      "Captures:\n",
      "  1781484148992: TensorSpec(shape=(), dtype=tf.resource, name=None)\n",
      "  1781484143888: TensorSpec(shape=(), dtype=tf.resource, name=None)\n",
      "  1781484145648: TensorSpec(shape=(), dtype=tf.resource, name=None)\n",
      "  1781484148112: TensorSpec(shape=(), dtype=tf.resource, name=None)\n",
      "  1781484146352: TensorSpec(shape=(), dtype=tf.resource, name=None)\n",
      "  1781484149520: TensorSpec(shape=(), dtype=tf.resource, name=None)\n"
     ]
    }
   ],
   "source": [
    "converter = lite.TFLiteConverter.from_keras_model(model)\n",
    "\n",
    "converter.optimizations = [lite.Optimize.DEFAULT]\n",
    "tflite_model = converter.convert()\n",
    "\n",
    "with open(os.path.join(dirpath, \"model.tflite\"), \"wb\") as file:\n",
    "    file.write(tflite_model)"
   ]
  },
  {
   "cell_type": "markdown",
   "metadata": {},
   "source": [
    "# **10. Inference**"
   ]
  },
  {
   "cell_type": "code",
   "execution_count": 19,
   "metadata": {},
   "outputs": [],
   "source": [
    "interpreter = lite.Interpreter(model_path=os.path.join(dirpath, \"model.tflite\"))\n",
    "interpreter.allocate_tensors()"
   ]
  },
  {
   "cell_type": "code",
   "execution_count": 20,
   "metadata": {},
   "outputs": [],
   "source": [
    "input_details = interpreter.get_input_details()\n",
    "output_details = interpreter.get_output_details()"
   ]
  },
  {
   "cell_type": "code",
   "execution_count": 21,
   "metadata": {},
   "outputs": [],
   "source": [
    "num = numpy.random.randint(len(x_test))"
   ]
  },
  {
   "cell_type": "code",
   "execution_count": 22,
   "metadata": {},
   "outputs": [],
   "source": [
    "interpreter.set_tensor(input_details[0][\"index\"], numpy.array([x_test[num]], \"float32\"))"
   ]
  },
  {
   "cell_type": "code",
   "execution_count": 23,
   "metadata": {},
   "outputs": [],
   "source": [
    "interpreter.invoke()\n",
    "tflite_results = interpreter.get_tensor(output_details[0][\"index\"])"
   ]
  },
  {
   "cell_type": "code",
   "execution_count": 24,
   "metadata": {},
   "outputs": [
    {
     "name": "stdout",
     "output_type": "stream",
     "text": [
      "Prediction: still\n",
      "Reality: still\n"
     ]
    }
   ],
   "source": [
    "tflite_results = labels[numpy.argmax(tflite_results)]\n",
    "reality = labels[y_test[num]]\n",
    "\n",
    "print(f\"Prediction: {tflite_results}\\nReality: {reality}\")"
   ]
  }
 ],
 "metadata": {
  "kernelspec": {
   "display_name": "venv",
   "language": "python",
   "name": "python3"
  },
  "language_info": {
   "codemirror_mode": {
    "name": "ipython",
    "version": 3
   },
   "file_extension": ".py",
   "mimetype": "text/x-python",
   "name": "python",
   "nbconvert_exporter": "python",
   "pygments_lexer": "ipython3",
   "version": "3.10.0"
  }
 },
 "nbformat": 4,
 "nbformat_minor": 2
}
